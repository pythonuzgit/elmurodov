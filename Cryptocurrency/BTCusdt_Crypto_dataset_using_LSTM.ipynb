{
  "nbformat": 4,
  "nbformat_minor": 0,
  "metadata": {
    "colab": {
      "provenance": [],
      "authorship_tag": "ABX9TyO9HGJ+bkxHy2HRHhVxn867",
      "include_colab_link": true
    },
    "kernelspec": {
      "name": "python3",
      "display_name": "Python 3"
    },
    "language_info": {
      "name": "python"
    }
  },
  "cells": [
    {
      "cell_type": "markdown",
      "metadata": {
        "id": "view-in-github",
        "colab_type": "text"
      },
      "source": [
        "<a href=\"https://colab.research.google.com/github/pythonuzgit/elmurodov/blob/master/Cryptocurrency/BTCusdt_Crypto_dataset_using_LSTM.ipynb\" target=\"_parent\"><img src=\"https://colab.research.google.com/assets/colab-badge.svg\" alt=\"Open In Colab\"/></a>"
      ]
    },
    {
      "cell_type": "code",
      "execution_count": null,
      "metadata": {
        "id": "XIsqCwH2s6tP"
      },
      "outputs": [],
      "source": []
    },
    {
      "cell_type": "code",
      "source": [
        "!unzip '/content/btcusdt-crypto-dataset-january10th2024-2025.zip'"
      ],
      "metadata": {
        "colab": {
          "base_uri": "https://localhost:8080/"
        },
        "id": "YeFHZkf9s76W",
        "outputId": "d356311d-2219-4edf-d5b7-d0ac75a2a2ac"
      },
      "execution_count": null,
      "outputs": [
        {
          "output_type": "stream",
          "name": "stdout",
          "text": [
            "Archive:  /content/btcusdt-crypto-dataset-january10th2024-2025.zip\n",
            "  inflating: btc_usdt.csv            \n"
          ]
        }
      ]
    },
    {
      "cell_type": "code",
      "source": [
        "from tensorflow.keras.models import Sequential\n",
        "import numpy as np\n",
        "import pandas as pd\n",
        "import seaborn as sns\n",
        "import matplotlib.pyplot as plt\n",
        "import networkx as nx\n",
        "import plotly.graph_objects as go\n",
        "from sklearn.metrics import mean_squared_error, mean_absolute_error, explained_variance_score, r2_score\n",
        "from sklearn.metrics import mean_poisson_deviance, mean_gamma_deviance, accuracy_score\n",
        "from sklearn.preprocessing import MinMaxScaler\n",
        "import tensorflow as tf\n",
        "\n",
        "from tensorflow.keras.models import Sequential\n",
        "from tensorflow.keras.layers import Dense, Dropout\n",
        "from tensorflow.keras.layers import LSTM\n",
        "import matplotlib.pyplot as plt\n",
        "from itertools import cycle\n",
        "import plotly.graph_objects as go\n",
        "import plotly.express as px\n",
        "from plotly.subplots import make_subplots\n",
        "from scipy.stats import skew\n",
        "from scipy.stats import kurtosis\n",
        "from scipy.stats import mode\n",
        "from tensorflow.keras.regularizers import l2\n",
        "\n",
        "import warnings\n",
        "warnings.filterwarnings('ignore')\n",
        "from sklearn.model_selection import train_test_split"
      ],
      "metadata": {
        "id": "zEPiFbBSs7wv"
      },
      "execution_count": null,
      "outputs": []
    },
    {
      "cell_type": "code",
      "source": [
        "data = pd.read_csv('/content/btc_usdt.csv')\n",
        "data.head()"
      ],
      "metadata": {
        "colab": {
          "base_uri": "https://localhost:8080/",
          "height": 206
        },
        "id": "1_M-NPcnt40o",
        "outputId": "d4185bf9-2a85-4309-c130-fd68d20ca2b2"
      },
      "execution_count": null,
      "outputs": [
        {
          "output_type": "execute_result",
          "data": {
            "text/plain": [
              "    timestamp      open      high       low     close       volume\n",
              "0  2024-01-10  46118.51  47701.27  44316.94  46648.59  2093.812510\n",
              "1  2024-01-11  46647.21  49053.64  45592.95  46344.00  2371.983481\n",
              "2  2024-01-12  46335.89  46512.76  41446.36  42777.97  2294.591816\n",
              "3  2024-01-13  42775.36  43257.08  42443.26  42843.20   406.902987\n",
              "4  2024-01-14  42833.23  43063.76  41723.69  41735.38   465.527323"
            ],
            "text/html": [
              "\n",
              "  <div id=\"df-1f834d4f-1049-422d-a1cd-c3cec04a4132\" class=\"colab-df-container\">\n",
              "    <div>\n",
              "<style scoped>\n",
              "    .dataframe tbody tr th:only-of-type {\n",
              "        vertical-align: middle;\n",
              "    }\n",
              "\n",
              "    .dataframe tbody tr th {\n",
              "        vertical-align: top;\n",
              "    }\n",
              "\n",
              "    .dataframe thead th {\n",
              "        text-align: right;\n",
              "    }\n",
              "</style>\n",
              "<table border=\"1\" class=\"dataframe\">\n",
              "  <thead>\n",
              "    <tr style=\"text-align: right;\">\n",
              "      <th></th>\n",
              "      <th>timestamp</th>\n",
              "      <th>open</th>\n",
              "      <th>high</th>\n",
              "      <th>low</th>\n",
              "      <th>close</th>\n",
              "      <th>volume</th>\n",
              "    </tr>\n",
              "  </thead>\n",
              "  <tbody>\n",
              "    <tr>\n",
              "      <th>0</th>\n",
              "      <td>2024-01-10</td>\n",
              "      <td>46118.51</td>\n",
              "      <td>47701.27</td>\n",
              "      <td>44316.94</td>\n",
              "      <td>46648.59</td>\n",
              "      <td>2093.812510</td>\n",
              "    </tr>\n",
              "    <tr>\n",
              "      <th>1</th>\n",
              "      <td>2024-01-11</td>\n",
              "      <td>46647.21</td>\n",
              "      <td>49053.64</td>\n",
              "      <td>45592.95</td>\n",
              "      <td>46344.00</td>\n",
              "      <td>2371.983481</td>\n",
              "    </tr>\n",
              "    <tr>\n",
              "      <th>2</th>\n",
              "      <td>2024-01-12</td>\n",
              "      <td>46335.89</td>\n",
              "      <td>46512.76</td>\n",
              "      <td>41446.36</td>\n",
              "      <td>42777.97</td>\n",
              "      <td>2294.591816</td>\n",
              "    </tr>\n",
              "    <tr>\n",
              "      <th>3</th>\n",
              "      <td>2024-01-13</td>\n",
              "      <td>42775.36</td>\n",
              "      <td>43257.08</td>\n",
              "      <td>42443.26</td>\n",
              "      <td>42843.20</td>\n",
              "      <td>406.902987</td>\n",
              "    </tr>\n",
              "    <tr>\n",
              "      <th>4</th>\n",
              "      <td>2024-01-14</td>\n",
              "      <td>42833.23</td>\n",
              "      <td>43063.76</td>\n",
              "      <td>41723.69</td>\n",
              "      <td>41735.38</td>\n",
              "      <td>465.527323</td>\n",
              "    </tr>\n",
              "  </tbody>\n",
              "</table>\n",
              "</div>\n",
              "    <div class=\"colab-df-buttons\">\n",
              "\n",
              "  <div class=\"colab-df-container\">\n",
              "    <button class=\"colab-df-convert\" onclick=\"convertToInteractive('df-1f834d4f-1049-422d-a1cd-c3cec04a4132')\"\n",
              "            title=\"Convert this dataframe to an interactive table.\"\n",
              "            style=\"display:none;\">\n",
              "\n",
              "  <svg xmlns=\"http://www.w3.org/2000/svg\" height=\"24px\" viewBox=\"0 -960 960 960\">\n",
              "    <path d=\"M120-120v-720h720v720H120Zm60-500h600v-160H180v160Zm220 220h160v-160H400v160Zm0 220h160v-160H400v160ZM180-400h160v-160H180v160Zm440 0h160v-160H620v160ZM180-180h160v-160H180v160Zm440 0h160v-160H620v160Z\"/>\n",
              "  </svg>\n",
              "    </button>\n",
              "\n",
              "  <style>\n",
              "    .colab-df-container {\n",
              "      display:flex;\n",
              "      gap: 12px;\n",
              "    }\n",
              "\n",
              "    .colab-df-convert {\n",
              "      background-color: #E8F0FE;\n",
              "      border: none;\n",
              "      border-radius: 50%;\n",
              "      cursor: pointer;\n",
              "      display: none;\n",
              "      fill: #1967D2;\n",
              "      height: 32px;\n",
              "      padding: 0 0 0 0;\n",
              "      width: 32px;\n",
              "    }\n",
              "\n",
              "    .colab-df-convert:hover {\n",
              "      background-color: #E2EBFA;\n",
              "      box-shadow: 0px 1px 2px rgba(60, 64, 67, 0.3), 0px 1px 3px 1px rgba(60, 64, 67, 0.15);\n",
              "      fill: #174EA6;\n",
              "    }\n",
              "\n",
              "    .colab-df-buttons div {\n",
              "      margin-bottom: 4px;\n",
              "    }\n",
              "\n",
              "    [theme=dark] .colab-df-convert {\n",
              "      background-color: #3B4455;\n",
              "      fill: #D2E3FC;\n",
              "    }\n",
              "\n",
              "    [theme=dark] .colab-df-convert:hover {\n",
              "      background-color: #434B5C;\n",
              "      box-shadow: 0px 1px 3px 1px rgba(0, 0, 0, 0.15);\n",
              "      filter: drop-shadow(0px 1px 2px rgba(0, 0, 0, 0.3));\n",
              "      fill: #FFFFFF;\n",
              "    }\n",
              "  </style>\n",
              "\n",
              "    <script>\n",
              "      const buttonEl =\n",
              "        document.querySelector('#df-1f834d4f-1049-422d-a1cd-c3cec04a4132 button.colab-df-convert');\n",
              "      buttonEl.style.display =\n",
              "        google.colab.kernel.accessAllowed ? 'block' : 'none';\n",
              "\n",
              "      async function convertToInteractive(key) {\n",
              "        const element = document.querySelector('#df-1f834d4f-1049-422d-a1cd-c3cec04a4132');\n",
              "        const dataTable =\n",
              "          await google.colab.kernel.invokeFunction('convertToInteractive',\n",
              "                                                    [key], {});\n",
              "        if (!dataTable) return;\n",
              "\n",
              "        const docLinkHtml = 'Like what you see? Visit the ' +\n",
              "          '<a target=\"_blank\" href=https://colab.research.google.com/notebooks/data_table.ipynb>data table notebook</a>'\n",
              "          + ' to learn more about interactive tables.';\n",
              "        element.innerHTML = '';\n",
              "        dataTable['output_type'] = 'display_data';\n",
              "        await google.colab.output.renderOutput(dataTable, element);\n",
              "        const docLink = document.createElement('div');\n",
              "        docLink.innerHTML = docLinkHtml;\n",
              "        element.appendChild(docLink);\n",
              "      }\n",
              "    </script>\n",
              "  </div>\n",
              "\n",
              "\n",
              "<div id=\"df-fabc7d19-47eb-4bfb-9b92-c4e4eb8430c0\">\n",
              "  <button class=\"colab-df-quickchart\" onclick=\"quickchart('df-fabc7d19-47eb-4bfb-9b92-c4e4eb8430c0')\"\n",
              "            title=\"Suggest charts\"\n",
              "            style=\"display:none;\">\n",
              "\n",
              "<svg xmlns=\"http://www.w3.org/2000/svg\" height=\"24px\"viewBox=\"0 0 24 24\"\n",
              "     width=\"24px\">\n",
              "    <g>\n",
              "        <path d=\"M19 3H5c-1.1 0-2 .9-2 2v14c0 1.1.9 2 2 2h14c1.1 0 2-.9 2-2V5c0-1.1-.9-2-2-2zM9 17H7v-7h2v7zm4 0h-2V7h2v10zm4 0h-2v-4h2v4z\"/>\n",
              "    </g>\n",
              "</svg>\n",
              "  </button>\n",
              "\n",
              "<style>\n",
              "  .colab-df-quickchart {\n",
              "      --bg-color: #E8F0FE;\n",
              "      --fill-color: #1967D2;\n",
              "      --hover-bg-color: #E2EBFA;\n",
              "      --hover-fill-color: #174EA6;\n",
              "      --disabled-fill-color: #AAA;\n",
              "      --disabled-bg-color: #DDD;\n",
              "  }\n",
              "\n",
              "  [theme=dark] .colab-df-quickchart {\n",
              "      --bg-color: #3B4455;\n",
              "      --fill-color: #D2E3FC;\n",
              "      --hover-bg-color: #434B5C;\n",
              "      --hover-fill-color: #FFFFFF;\n",
              "      --disabled-bg-color: #3B4455;\n",
              "      --disabled-fill-color: #666;\n",
              "  }\n",
              "\n",
              "  .colab-df-quickchart {\n",
              "    background-color: var(--bg-color);\n",
              "    border: none;\n",
              "    border-radius: 50%;\n",
              "    cursor: pointer;\n",
              "    display: none;\n",
              "    fill: var(--fill-color);\n",
              "    height: 32px;\n",
              "    padding: 0;\n",
              "    width: 32px;\n",
              "  }\n",
              "\n",
              "  .colab-df-quickchart:hover {\n",
              "    background-color: var(--hover-bg-color);\n",
              "    box-shadow: 0 1px 2px rgba(60, 64, 67, 0.3), 0 1px 3px 1px rgba(60, 64, 67, 0.15);\n",
              "    fill: var(--button-hover-fill-color);\n",
              "  }\n",
              "\n",
              "  .colab-df-quickchart-complete:disabled,\n",
              "  .colab-df-quickchart-complete:disabled:hover {\n",
              "    background-color: var(--disabled-bg-color);\n",
              "    fill: var(--disabled-fill-color);\n",
              "    box-shadow: none;\n",
              "  }\n",
              "\n",
              "  .colab-df-spinner {\n",
              "    border: 2px solid var(--fill-color);\n",
              "    border-color: transparent;\n",
              "    border-bottom-color: var(--fill-color);\n",
              "    animation:\n",
              "      spin 1s steps(1) infinite;\n",
              "  }\n",
              "\n",
              "  @keyframes spin {\n",
              "    0% {\n",
              "      border-color: transparent;\n",
              "      border-bottom-color: var(--fill-color);\n",
              "      border-left-color: var(--fill-color);\n",
              "    }\n",
              "    20% {\n",
              "      border-color: transparent;\n",
              "      border-left-color: var(--fill-color);\n",
              "      border-top-color: var(--fill-color);\n",
              "    }\n",
              "    30% {\n",
              "      border-color: transparent;\n",
              "      border-left-color: var(--fill-color);\n",
              "      border-top-color: var(--fill-color);\n",
              "      border-right-color: var(--fill-color);\n",
              "    }\n",
              "    40% {\n",
              "      border-color: transparent;\n",
              "      border-right-color: var(--fill-color);\n",
              "      border-top-color: var(--fill-color);\n",
              "    }\n",
              "    60% {\n",
              "      border-color: transparent;\n",
              "      border-right-color: var(--fill-color);\n",
              "    }\n",
              "    80% {\n",
              "      border-color: transparent;\n",
              "      border-right-color: var(--fill-color);\n",
              "      border-bottom-color: var(--fill-color);\n",
              "    }\n",
              "    90% {\n",
              "      border-color: transparent;\n",
              "      border-bottom-color: var(--fill-color);\n",
              "    }\n",
              "  }\n",
              "</style>\n",
              "\n",
              "  <script>\n",
              "    async function quickchart(key) {\n",
              "      const quickchartButtonEl =\n",
              "        document.querySelector('#' + key + ' button');\n",
              "      quickchartButtonEl.disabled = true;  // To prevent multiple clicks.\n",
              "      quickchartButtonEl.classList.add('colab-df-spinner');\n",
              "      try {\n",
              "        const charts = await google.colab.kernel.invokeFunction(\n",
              "            'suggestCharts', [key], {});\n",
              "      } catch (error) {\n",
              "        console.error('Error during call to suggestCharts:', error);\n",
              "      }\n",
              "      quickchartButtonEl.classList.remove('colab-df-spinner');\n",
              "      quickchartButtonEl.classList.add('colab-df-quickchart-complete');\n",
              "    }\n",
              "    (() => {\n",
              "      let quickchartButtonEl =\n",
              "        document.querySelector('#df-fabc7d19-47eb-4bfb-9b92-c4e4eb8430c0 button');\n",
              "      quickchartButtonEl.style.display =\n",
              "        google.colab.kernel.accessAllowed ? 'block' : 'none';\n",
              "    })();\n",
              "  </script>\n",
              "</div>\n",
              "\n",
              "    </div>\n",
              "  </div>\n"
            ],
            "application/vnd.google.colaboratory.intrinsic+json": {
              "type": "dataframe",
              "variable_name": "data",
              "summary": "{\n  \"name\": \"data\",\n  \"rows\": 367,\n  \"fields\": [\n    {\n      \"column\": \"timestamp\",\n      \"properties\": {\n        \"dtype\": \"object\",\n        \"num_unique_values\": 367,\n        \"samples\": [\n          \"2024-07-21\",\n          \"2024-02-12\",\n          \"2024-01-25\"\n        ],\n        \"semantic_type\": \"\",\n        \"description\": \"\"\n      }\n    },\n    {\n      \"column\": \"open\",\n      \"properties\": {\n        \"dtype\": \"number\",\n        \"std\": 15069.1932326396,\n        \"min\": 39558.16,\n        \"max\": 106129.98,\n        \"num_unique_values\": 367,\n        \"samples\": [\n          67172.2,\n          48311.11,\n          40069.97\n        ],\n        \"semantic_type\": \"\",\n        \"description\": \"\"\n      }\n    },\n    {\n      \"column\": \"high\",\n      \"properties\": {\n        \"dtype\": \"number\",\n        \"std\": 15381.740637245794,\n        \"min\": 40176.92,\n        \"max\": 108367.11,\n        \"num_unique_values\": 367,\n        \"samples\": [\n          68367.15,\n          50333.62,\n          40307.22\n        ],\n        \"semantic_type\": \"\",\n        \"description\": \"\"\n      }\n    },\n    {\n      \"column\": \"low\",\n      \"properties\": {\n        \"dtype\": \"number\",\n        \"std\": 14762.396719397535,\n        \"min\": 38547.38,\n        \"max\": 105333.93,\n        \"num_unique_values\": 366,\n        \"samples\": [\n          65767.08,\n          47710.19,\n          39549.0\n        ],\n        \"semantic_type\": \"\",\n        \"description\": \"\"\n      }\n    },\n    {\n      \"column\": \"close\",\n      \"properties\": {\n        \"dtype\": \"number\",\n        \"std\": 15094.400245637082,\n        \"min\": 39563.52,\n        \"max\": 106137.67,\n        \"num_unique_values\": 367,\n        \"samples\": [\n          68163.68,\n          49921.27,\n          39959.44\n        ],\n        \"semantic_type\": \"\",\n        \"description\": \"\"\n      }\n    },\n    {\n      \"column\": \"volume\",\n      \"properties\": {\n        \"dtype\": \"number\",\n        \"std\": 461.50743659749236,\n        \"min\": 52.52720683,\n        \"max\": 3644.91829736,\n        \"num_unique_values\": 367,\n        \"samples\": [\n          385.04221644,\n          1085.37824513,\n          546.8139417\n        ],\n        \"semantic_type\": \"\",\n        \"description\": \"\"\n      }\n    }\n  ]\n}"
            }
          },
          "metadata": {},
          "execution_count": 6
        }
      ]
    },
    {
      "cell_type": "code",
      "source": [
        "data.shape"
      ],
      "metadata": {
        "colab": {
          "base_uri": "https://localhost:8080/"
        },
        "id": "db9e0-nMt4yK",
        "outputId": "96d1d765-8a5f-4610-96b9-8170f1fdaf1d"
      },
      "execution_count": null,
      "outputs": [
        {
          "output_type": "execute_result",
          "data": {
            "text/plain": [
              "(367, 6)"
            ]
          },
          "metadata": {},
          "execution_count": 7
        }
      ]
    },
    {
      "cell_type": "code",
      "source": [
        "data.info()"
      ],
      "metadata": {
        "colab": {
          "base_uri": "https://localhost:8080/"
        },
        "id": "Tu3bms_MvHCO",
        "outputId": "6c4dd1b2-4fd3-43aa-e93f-6b37ea727094"
      },
      "execution_count": null,
      "outputs": [
        {
          "output_type": "stream",
          "name": "stdout",
          "text": [
            "<class 'pandas.core.frame.DataFrame'>\n",
            "RangeIndex: 367 entries, 0 to 366\n",
            "Data columns (total 6 columns):\n",
            " #   Column     Non-Null Count  Dtype  \n",
            "---  ------     --------------  -----  \n",
            " 0   timestamp  367 non-null    object \n",
            " 1   open       367 non-null    float64\n",
            " 2   high       367 non-null    float64\n",
            " 3   low        367 non-null    float64\n",
            " 4   close      367 non-null    float64\n",
            " 5   volume     367 non-null    float64\n",
            "dtypes: float64(5), object(1)\n",
            "memory usage: 17.3+ KB\n"
          ]
        }
      ]
    },
    {
      "cell_type": "code",
      "source": [
        "data[\"timestamp\"] = pd.to_datetime(data[\"timestamp\"])\n",
        "print(data[\"timestamp\"])\n",
        "print(\"Initial date:\",data[\"timestamp\"].min())\n",
        "print(\"End date:\",data[\"timestamp\"].max())"
      ],
      "metadata": {
        "id": "2haS0fcWt4uR",
        "colab": {
          "base_uri": "https://localhost:8080/"
        },
        "outputId": "cd0f8174-b98f-48b0-d450-00f9bc39c280"
      },
      "execution_count": null,
      "outputs": [
        {
          "output_type": "stream",
          "name": "stdout",
          "text": [
            "0     2024-01-10\n",
            "1     2024-01-11\n",
            "2     2024-01-12\n",
            "3     2024-01-13\n",
            "4     2024-01-14\n",
            "         ...    \n",
            "362   2025-01-06\n",
            "363   2025-01-07\n",
            "364   2025-01-08\n",
            "365   2025-01-09\n",
            "366   2025-01-10\n",
            "Name: timestamp, Length: 367, dtype: datetime64[ns]\n",
            "Initial date: 2024-01-10 00:00:00\n",
            "End date: 2025-01-10 00:00:00\n"
          ]
        }
      ]
    },
    {
      "cell_type": "code",
      "source": [
        "data.describe()"
      ],
      "metadata": {
        "id": "7QJGphp2t4p-",
        "colab": {
          "base_uri": "https://localhost:8080/",
          "height": 300
        },
        "outputId": "54144bf0-0382-415d-deee-49069195bf5e"
      },
      "execution_count": null,
      "outputs": [
        {
          "output_type": "execute_result",
          "data": {
            "text/plain": [
              "                           timestamp           open           high  \\\n",
              "count                            367     367.000000     367.000000   \n",
              "mean   2024-07-11 00:00:00.000000256   67197.227302   68607.118420   \n",
              "min              2024-01-10 00:00:00   39558.160000   40176.920000   \n",
              "25%              2024-04-10 12:00:00   59434.530000   61287.265000   \n",
              "50%              2024-07-11 00:00:00   64881.710000   66170.250000   \n",
              "75%              2024-10-10 12:00:00   69475.385000   71009.950000   \n",
              "max              2025-01-10 00:00:00  106129.980000  108367.110000   \n",
              "std                              NaN   15069.193233   15381.740637   \n",
              "\n",
              "                 low          close       volume  \n",
              "count     367.000000     367.000000   367.000000  \n",
              "mean    65828.650763   67328.794169   632.620806  \n",
              "min     38547.380000   39563.520000    52.527207  \n",
              "25%     58413.790000   59462.495000   322.134544  \n",
              "50%     63228.080000   64915.790000   543.763421  \n",
              "75%     68361.960000   69505.090000   829.129322  \n",
              "max    105333.930000  106137.670000  3644.918297  \n",
              "std     14762.396719   15094.400246   461.507437  "
            ],
            "text/html": [
              "\n",
              "  <div id=\"df-2adead8c-e94d-4eb9-af94-c15e0732ff01\" class=\"colab-df-container\">\n",
              "    <div>\n",
              "<style scoped>\n",
              "    .dataframe tbody tr th:only-of-type {\n",
              "        vertical-align: middle;\n",
              "    }\n",
              "\n",
              "    .dataframe tbody tr th {\n",
              "        vertical-align: top;\n",
              "    }\n",
              "\n",
              "    .dataframe thead th {\n",
              "        text-align: right;\n",
              "    }\n",
              "</style>\n",
              "<table border=\"1\" class=\"dataframe\">\n",
              "  <thead>\n",
              "    <tr style=\"text-align: right;\">\n",
              "      <th></th>\n",
              "      <th>timestamp</th>\n",
              "      <th>open</th>\n",
              "      <th>high</th>\n",
              "      <th>low</th>\n",
              "      <th>close</th>\n",
              "      <th>volume</th>\n",
              "    </tr>\n",
              "  </thead>\n",
              "  <tbody>\n",
              "    <tr>\n",
              "      <th>count</th>\n",
              "      <td>367</td>\n",
              "      <td>367.000000</td>\n",
              "      <td>367.000000</td>\n",
              "      <td>367.000000</td>\n",
              "      <td>367.000000</td>\n",
              "      <td>367.000000</td>\n",
              "    </tr>\n",
              "    <tr>\n",
              "      <th>mean</th>\n",
              "      <td>2024-07-11 00:00:00.000000256</td>\n",
              "      <td>67197.227302</td>\n",
              "      <td>68607.118420</td>\n",
              "      <td>65828.650763</td>\n",
              "      <td>67328.794169</td>\n",
              "      <td>632.620806</td>\n",
              "    </tr>\n",
              "    <tr>\n",
              "      <th>min</th>\n",
              "      <td>2024-01-10 00:00:00</td>\n",
              "      <td>39558.160000</td>\n",
              "      <td>40176.920000</td>\n",
              "      <td>38547.380000</td>\n",
              "      <td>39563.520000</td>\n",
              "      <td>52.527207</td>\n",
              "    </tr>\n",
              "    <tr>\n",
              "      <th>25%</th>\n",
              "      <td>2024-04-10 12:00:00</td>\n",
              "      <td>59434.530000</td>\n",
              "      <td>61287.265000</td>\n",
              "      <td>58413.790000</td>\n",
              "      <td>59462.495000</td>\n",
              "      <td>322.134544</td>\n",
              "    </tr>\n",
              "    <tr>\n",
              "      <th>50%</th>\n",
              "      <td>2024-07-11 00:00:00</td>\n",
              "      <td>64881.710000</td>\n",
              "      <td>66170.250000</td>\n",
              "      <td>63228.080000</td>\n",
              "      <td>64915.790000</td>\n",
              "      <td>543.763421</td>\n",
              "    </tr>\n",
              "    <tr>\n",
              "      <th>75%</th>\n",
              "      <td>2024-10-10 12:00:00</td>\n",
              "      <td>69475.385000</td>\n",
              "      <td>71009.950000</td>\n",
              "      <td>68361.960000</td>\n",
              "      <td>69505.090000</td>\n",
              "      <td>829.129322</td>\n",
              "    </tr>\n",
              "    <tr>\n",
              "      <th>max</th>\n",
              "      <td>2025-01-10 00:00:00</td>\n",
              "      <td>106129.980000</td>\n",
              "      <td>108367.110000</td>\n",
              "      <td>105333.930000</td>\n",
              "      <td>106137.670000</td>\n",
              "      <td>3644.918297</td>\n",
              "    </tr>\n",
              "    <tr>\n",
              "      <th>std</th>\n",
              "      <td>NaN</td>\n",
              "      <td>15069.193233</td>\n",
              "      <td>15381.740637</td>\n",
              "      <td>14762.396719</td>\n",
              "      <td>15094.400246</td>\n",
              "      <td>461.507437</td>\n",
              "    </tr>\n",
              "  </tbody>\n",
              "</table>\n",
              "</div>\n",
              "    <div class=\"colab-df-buttons\">\n",
              "\n",
              "  <div class=\"colab-df-container\">\n",
              "    <button class=\"colab-df-convert\" onclick=\"convertToInteractive('df-2adead8c-e94d-4eb9-af94-c15e0732ff01')\"\n",
              "            title=\"Convert this dataframe to an interactive table.\"\n",
              "            style=\"display:none;\">\n",
              "\n",
              "  <svg xmlns=\"http://www.w3.org/2000/svg\" height=\"24px\" viewBox=\"0 -960 960 960\">\n",
              "    <path d=\"M120-120v-720h720v720H120Zm60-500h600v-160H180v160Zm220 220h160v-160H400v160Zm0 220h160v-160H400v160ZM180-400h160v-160H180v160Zm440 0h160v-160H620v160ZM180-180h160v-160H180v160Zm440 0h160v-160H620v160Z\"/>\n",
              "  </svg>\n",
              "    </button>\n",
              "\n",
              "  <style>\n",
              "    .colab-df-container {\n",
              "      display:flex;\n",
              "      gap: 12px;\n",
              "    }\n",
              "\n",
              "    .colab-df-convert {\n",
              "      background-color: #E8F0FE;\n",
              "      border: none;\n",
              "      border-radius: 50%;\n",
              "      cursor: pointer;\n",
              "      display: none;\n",
              "      fill: #1967D2;\n",
              "      height: 32px;\n",
              "      padding: 0 0 0 0;\n",
              "      width: 32px;\n",
              "    }\n",
              "\n",
              "    .colab-df-convert:hover {\n",
              "      background-color: #E2EBFA;\n",
              "      box-shadow: 0px 1px 2px rgba(60, 64, 67, 0.3), 0px 1px 3px 1px rgba(60, 64, 67, 0.15);\n",
              "      fill: #174EA6;\n",
              "    }\n",
              "\n",
              "    .colab-df-buttons div {\n",
              "      margin-bottom: 4px;\n",
              "    }\n",
              "\n",
              "    [theme=dark] .colab-df-convert {\n",
              "      background-color: #3B4455;\n",
              "      fill: #D2E3FC;\n",
              "    }\n",
              "\n",
              "    [theme=dark] .colab-df-convert:hover {\n",
              "      background-color: #434B5C;\n",
              "      box-shadow: 0px 1px 3px 1px rgba(0, 0, 0, 0.15);\n",
              "      filter: drop-shadow(0px 1px 2px rgba(0, 0, 0, 0.3));\n",
              "      fill: #FFFFFF;\n",
              "    }\n",
              "  </style>\n",
              "\n",
              "    <script>\n",
              "      const buttonEl =\n",
              "        document.querySelector('#df-2adead8c-e94d-4eb9-af94-c15e0732ff01 button.colab-df-convert');\n",
              "      buttonEl.style.display =\n",
              "        google.colab.kernel.accessAllowed ? 'block' : 'none';\n",
              "\n",
              "      async function convertToInteractive(key) {\n",
              "        const element = document.querySelector('#df-2adead8c-e94d-4eb9-af94-c15e0732ff01');\n",
              "        const dataTable =\n",
              "          await google.colab.kernel.invokeFunction('convertToInteractive',\n",
              "                                                    [key], {});\n",
              "        if (!dataTable) return;\n",
              "\n",
              "        const docLinkHtml = 'Like what you see? Visit the ' +\n",
              "          '<a target=\"_blank\" href=https://colab.research.google.com/notebooks/data_table.ipynb>data table notebook</a>'\n",
              "          + ' to learn more about interactive tables.';\n",
              "        element.innerHTML = '';\n",
              "        dataTable['output_type'] = 'display_data';\n",
              "        await google.colab.output.renderOutput(dataTable, element);\n",
              "        const docLink = document.createElement('div');\n",
              "        docLink.innerHTML = docLinkHtml;\n",
              "        element.appendChild(docLink);\n",
              "      }\n",
              "    </script>\n",
              "  </div>\n",
              "\n",
              "\n",
              "<div id=\"df-688e03c6-a287-41a3-bbee-d1c0f9658d55\">\n",
              "  <button class=\"colab-df-quickchart\" onclick=\"quickchart('df-688e03c6-a287-41a3-bbee-d1c0f9658d55')\"\n",
              "            title=\"Suggest charts\"\n",
              "            style=\"display:none;\">\n",
              "\n",
              "<svg xmlns=\"http://www.w3.org/2000/svg\" height=\"24px\"viewBox=\"0 0 24 24\"\n",
              "     width=\"24px\">\n",
              "    <g>\n",
              "        <path d=\"M19 3H5c-1.1 0-2 .9-2 2v14c0 1.1.9 2 2 2h14c1.1 0 2-.9 2-2V5c0-1.1-.9-2-2-2zM9 17H7v-7h2v7zm4 0h-2V7h2v10zm4 0h-2v-4h2v4z\"/>\n",
              "    </g>\n",
              "</svg>\n",
              "  </button>\n",
              "\n",
              "<style>\n",
              "  .colab-df-quickchart {\n",
              "      --bg-color: #E8F0FE;\n",
              "      --fill-color: #1967D2;\n",
              "      --hover-bg-color: #E2EBFA;\n",
              "      --hover-fill-color: #174EA6;\n",
              "      --disabled-fill-color: #AAA;\n",
              "      --disabled-bg-color: #DDD;\n",
              "  }\n",
              "\n",
              "  [theme=dark] .colab-df-quickchart {\n",
              "      --bg-color: #3B4455;\n",
              "      --fill-color: #D2E3FC;\n",
              "      --hover-bg-color: #434B5C;\n",
              "      --hover-fill-color: #FFFFFF;\n",
              "      --disabled-bg-color: #3B4455;\n",
              "      --disabled-fill-color: #666;\n",
              "  }\n",
              "\n",
              "  .colab-df-quickchart {\n",
              "    background-color: var(--bg-color);\n",
              "    border: none;\n",
              "    border-radius: 50%;\n",
              "    cursor: pointer;\n",
              "    display: none;\n",
              "    fill: var(--fill-color);\n",
              "    height: 32px;\n",
              "    padding: 0;\n",
              "    width: 32px;\n",
              "  }\n",
              "\n",
              "  .colab-df-quickchart:hover {\n",
              "    background-color: var(--hover-bg-color);\n",
              "    box-shadow: 0 1px 2px rgba(60, 64, 67, 0.3), 0 1px 3px 1px rgba(60, 64, 67, 0.15);\n",
              "    fill: var(--button-hover-fill-color);\n",
              "  }\n",
              "\n",
              "  .colab-df-quickchart-complete:disabled,\n",
              "  .colab-df-quickchart-complete:disabled:hover {\n",
              "    background-color: var(--disabled-bg-color);\n",
              "    fill: var(--disabled-fill-color);\n",
              "    box-shadow: none;\n",
              "  }\n",
              "\n",
              "  .colab-df-spinner {\n",
              "    border: 2px solid var(--fill-color);\n",
              "    border-color: transparent;\n",
              "    border-bottom-color: var(--fill-color);\n",
              "    animation:\n",
              "      spin 1s steps(1) infinite;\n",
              "  }\n",
              "\n",
              "  @keyframes spin {\n",
              "    0% {\n",
              "      border-color: transparent;\n",
              "      border-bottom-color: var(--fill-color);\n",
              "      border-left-color: var(--fill-color);\n",
              "    }\n",
              "    20% {\n",
              "      border-color: transparent;\n",
              "      border-left-color: var(--fill-color);\n",
              "      border-top-color: var(--fill-color);\n",
              "    }\n",
              "    30% {\n",
              "      border-color: transparent;\n",
              "      border-left-color: var(--fill-color);\n",
              "      border-top-color: var(--fill-color);\n",
              "      border-right-color: var(--fill-color);\n",
              "    }\n",
              "    40% {\n",
              "      border-color: transparent;\n",
              "      border-right-color: var(--fill-color);\n",
              "      border-top-color: var(--fill-color);\n",
              "    }\n",
              "    60% {\n",
              "      border-color: transparent;\n",
              "      border-right-color: var(--fill-color);\n",
              "    }\n",
              "    80% {\n",
              "      border-color: transparent;\n",
              "      border-right-color: var(--fill-color);\n",
              "      border-bottom-color: var(--fill-color);\n",
              "    }\n",
              "    90% {\n",
              "      border-color: transparent;\n",
              "      border-bottom-color: var(--fill-color);\n",
              "    }\n",
              "  }\n",
              "</style>\n",
              "\n",
              "  <script>\n",
              "    async function quickchart(key) {\n",
              "      const quickchartButtonEl =\n",
              "        document.querySelector('#' + key + ' button');\n",
              "      quickchartButtonEl.disabled = true;  // To prevent multiple clicks.\n",
              "      quickchartButtonEl.classList.add('colab-df-spinner');\n",
              "      try {\n",
              "        const charts = await google.colab.kernel.invokeFunction(\n",
              "            'suggestCharts', [key], {});\n",
              "      } catch (error) {\n",
              "        console.error('Error during call to suggestCharts:', error);\n",
              "      }\n",
              "      quickchartButtonEl.classList.remove('colab-df-spinner');\n",
              "      quickchartButtonEl.classList.add('colab-df-quickchart-complete');\n",
              "    }\n",
              "    (() => {\n",
              "      let quickchartButtonEl =\n",
              "        document.querySelector('#df-688e03c6-a287-41a3-bbee-d1c0f9658d55 button');\n",
              "      quickchartButtonEl.style.display =\n",
              "        google.colab.kernel.accessAllowed ? 'block' : 'none';\n",
              "    })();\n",
              "  </script>\n",
              "</div>\n",
              "\n",
              "    </div>\n",
              "  </div>\n"
            ],
            "application/vnd.google.colaboratory.intrinsic+json": {
              "type": "dataframe",
              "summary": "{\n  \"name\": \"data\",\n  \"rows\": 8,\n  \"fields\": [\n    {\n      \"column\": \"timestamp\",\n      \"properties\": {\n        \"dtype\": \"date\",\n        \"min\": \"1970-01-01 00:00:00.000000367\",\n        \"max\": \"2025-01-10 00:00:00\",\n        \"num_unique_values\": 7,\n        \"samples\": [\n          \"367\",\n          \"2024-07-11 00:00:00.000000256\",\n          \"2024-10-10 12:00:00\"\n        ],\n        \"semantic_type\": \"\",\n        \"description\": \"\"\n      }\n    },\n    {\n      \"column\": \"open\",\n      \"properties\": {\n        \"dtype\": \"number\",\n        \"std\": 33525.23442471876,\n        \"min\": 367.0,\n        \"max\": 106129.98,\n        \"num_unique_values\": 8,\n        \"samples\": [\n          67197.22730245232,\n          69475.38500000001,\n          367.0\n        ],\n        \"semantic_type\": \"\",\n        \"description\": \"\"\n      }\n    },\n    {\n      \"column\": \"high\",\n      \"properties\": {\n        \"dtype\": \"number\",\n        \"std\": 34264.943203776624,\n        \"min\": 367.0,\n        \"max\": 108367.11,\n        \"num_unique_values\": 8,\n        \"samples\": [\n          68607.11841961853,\n          71009.95000000001,\n          367.0\n        ],\n        \"semantic_type\": \"\",\n        \"description\": \"\"\n      }\n    },\n    {\n      \"column\": \"low\",\n      \"properties\": {\n        \"dtype\": \"number\",\n        \"std\": 33175.01509076683,\n        \"min\": 367.0,\n        \"max\": 105333.93,\n        \"num_unique_values\": 8,\n        \"samples\": [\n          65828.65076294278,\n          68361.96,\n          367.0\n        ],\n        \"semantic_type\": \"\",\n        \"description\": \"\"\n      }\n    },\n    {\n      \"column\": \"close\",\n      \"properties\": {\n        \"dtype\": \"number\",\n        \"std\": 33535.418813291784,\n        \"min\": 367.0,\n        \"max\": 106137.67,\n        \"num_unique_values\": 8,\n        \"samples\": [\n          67328.79416893733,\n          69505.09,\n          367.0\n        ],\n        \"semantic_type\": \"\",\n        \"description\": \"\"\n      }\n    },\n    {\n      \"column\": \"volume\",\n      \"properties\": {\n        \"dtype\": \"number\",\n        \"std\": 1149.6272416701813,\n        \"min\": 52.52720683,\n        \"max\": 3644.91829736,\n        \"num_unique_values\": 8,\n        \"samples\": [\n          632.6208059974387,\n          829.1293220499999,\n          367.0\n        ],\n        \"semantic_type\": \"\",\n        \"description\": \"\"\n      }\n    }\n  ]\n}"
            }
          },
          "metadata": {},
          "execution_count": 11
        }
      ]
    },
    {
      "cell_type": "code",
      "source": [
        "data['timestamp'] = pd.to_datetime(data['timestamp']).dt.date\n",
        "print(data[\"timestamp\"].head())"
      ],
      "metadata": {
        "id": "sqGV0qtEt4g7",
        "colab": {
          "base_uri": "https://localhost:8080/"
        },
        "outputId": "228b913f-906d-4cd7-86b4-d7c88818b3ac"
      },
      "execution_count": null,
      "outputs": [
        {
          "output_type": "stream",
          "name": "stdout",
          "text": [
            "0    2024-01-10\n",
            "1    2024-01-11\n",
            "2    2024-01-12\n",
            "3    2024-01-13\n",
            "4    2024-01-14\n",
            "Name: timestamp, dtype: object\n"
          ]
        }
      ]
    },
    {
      "cell_type": "code",
      "source": [
        "data[\"timestamp\"] = data[\"timestamp\"].astype(str)\n",
        "data[\"date of year\"] = data[\"timestamp\"].str.split(\"-\").str[0]\n",
        "print(data[\"date of year\"].unique())\n",
        "data[\"timestamp\"] = data[\"timestamp\"].astype(str)\n",
        "data[\"date of month\"] = data[\"timestamp\"].str.split(\"-\").str[1]\n",
        "print(data[\"date of month\"].unique())"
      ],
      "metadata": {
        "colab": {
          "base_uri": "https://localhost:8080/"
        },
        "id": "nSfPgoOavuR3",
        "outputId": "a5d267c7-612c-4c47-944e-f0ad7af641a3"
      },
      "execution_count": null,
      "outputs": [
        {
          "output_type": "stream",
          "name": "stdout",
          "text": [
            "['2024' '2025']\n",
            "['01' '02' '03' '04' '05' '06' '07' '08' '09' '10' '11' '12']\n"
          ]
        }
      ]
    },
    {
      "cell_type": "code",
      "source": [
        "data['date'] = pd.to_datetime(data['date of year'].astype(str) + '-' + data['date of month'].astype(str))\n",
        "data['date'].head()"
      ],
      "metadata": {
        "colab": {
          "base_uri": "https://localhost:8080/",
          "height": 240
        },
        "id": "2dQrckX4vuPE",
        "outputId": "6224ba54-bb79-4e7b-e0e1-5251f8ecf215"
      },
      "execution_count": null,
      "outputs": [
        {
          "output_type": "execute_result",
          "data": {
            "text/plain": [
              "0   2024-01-01\n",
              "1   2024-01-01\n",
              "2   2024-01-01\n",
              "3   2024-01-01\n",
              "4   2024-01-01\n",
              "Name: date, dtype: datetime64[ns]"
            ],
            "text/html": [
              "<div>\n",
              "<style scoped>\n",
              "    .dataframe tbody tr th:only-of-type {\n",
              "        vertical-align: middle;\n",
              "    }\n",
              "\n",
              "    .dataframe tbody tr th {\n",
              "        vertical-align: top;\n",
              "    }\n",
              "\n",
              "    .dataframe thead th {\n",
              "        text-align: right;\n",
              "    }\n",
              "</style>\n",
              "<table border=\"1\" class=\"dataframe\">\n",
              "  <thead>\n",
              "    <tr style=\"text-align: right;\">\n",
              "      <th></th>\n",
              "      <th>date</th>\n",
              "    </tr>\n",
              "  </thead>\n",
              "  <tbody>\n",
              "    <tr>\n",
              "      <th>0</th>\n",
              "      <td>2024-01-01</td>\n",
              "    </tr>\n",
              "    <tr>\n",
              "      <th>1</th>\n",
              "      <td>2024-01-01</td>\n",
              "    </tr>\n",
              "    <tr>\n",
              "      <th>2</th>\n",
              "      <td>2024-01-01</td>\n",
              "    </tr>\n",
              "    <tr>\n",
              "      <th>3</th>\n",
              "      <td>2024-01-01</td>\n",
              "    </tr>\n",
              "    <tr>\n",
              "      <th>4</th>\n",
              "      <td>2024-01-01</td>\n",
              "    </tr>\n",
              "  </tbody>\n",
              "</table>\n",
              "</div><br><label><b>dtype:</b> datetime64[ns]</label>"
            ]
          },
          "metadata": {},
          "execution_count": 14
        }
      ]
    },
    {
      "cell_type": "code",
      "source": [
        "data = data.sort_values(by='timestamp', ascending=True)"
      ],
      "metadata": {
        "id": "Q2IY_EVmvuMC"
      },
      "execution_count": null,
      "outputs": []
    },
    {
      "cell_type": "code",
      "source": [
        "sns.relplot(data=data[[\"low\",\"date of year\"]], x = \"date of year\",y = \"low\",kind = \"line\")\n",
        "plt.show()"
      ],
      "metadata": {
        "colab": {
          "base_uri": "https://localhost:8080/",
          "height": 506
        },
        "id": "UwKZ8O6JvuI1",
        "outputId": "e7c896f9-614f-4dbf-9aca-b2f66d133622"
      },
      "execution_count": null,
      "outputs": [
        {
          "output_type": "display_data",
          "data": {
            "text/plain": [
              "<Figure size 500x500 with 1 Axes>"
            ],
            "image/png": "[encoded data removed]"
          },
          "metadata": {}
        }
      ]
    },
    {
      "cell_type": "code",
      "source": [
        "data = data.sort_values(by='date of month')\n",
        "fig = go.Figure(data=[go.Candlestick(x=data['date'],\n",
        "                open=data['open'], high=data['high'],\n",
        "                low=data['low'], close=data['close'])\n",
        "                      ])\n",
        "fig.show()"
      ],
      "metadata": {
        "colab": {
          "base_uri": "https://localhost:8080/",
          "height": 542
        },
        "id": "Ybd7rjBHvuE6",
        "outputId": "bc56ab04-e970-487a-bc5e-b37bc6316b98"
      },
      "execution_count": null,
      "outputs": [
        {
          "output_type": "display_data",
          "data": {
            "text/html": [
              "<html>\n",
              "<head><meta charset=\"utf-8\" /></head>\n",
              "<body>\n",
              "    <div>            <script src=\"https://cdnjs.cloudflare.com/ajax/libs/mathjax/2.7.5/MathJax.js?config=TeX-AMS-MML_SVG\"></script><script type=\"text/javascript\">if (window.MathJax && window.MathJax.Hub && window.MathJax.Hub.Config) {window.MathJax.Hub.Config({SVG: {font: \"STIX-Web\"}});}</script>                <script type=\"text/javascript\">window.PlotlyConfig = {MathJaxConfig: 'local'};</script>\n",
              "        <script charset=\"utf-8\" src=\"https://cdn.plot.ly/plotly-2.35.2.min.js\"></script>                <div id=\"a4f33bcc-f5e7-4cab-8bab-02179a59ebb1\" class=\"plotly-graph-div\" style=\"height:525px; width:100%;\"></div>            <script type=\"text/javascript\">                                    window.PLOTLYENV=window.PLOTLYENV || {};                                    if (document.getElementById(\"a4f33bcc-f5e7-4cab-8bab-02179a59ebb1\")) {                    Plotly.newPlot(                        \"a4f33bcc-f5e7-4cab-8bab-02179a59ebb1\",                        [{\"close\":[46648.59,42779.3,39904.22,39563.52,41560.38,41692.38,41661.33,41294.04,42843.2,43166.79,41735.38,42777.97,46344.0,39959.44,40081.13,94082.2,42506.39,42114.61,41822.05,96960.38,102233.01,98426.14,98250.13,98180.77,97023.09,95062.1,92547.63,42581.51,42944.49,43293.66,42034.52,94595.69,43087.16,44357.99,45291.66,47123.48,42710.89,49921.27,51892.98,51802.73,52121.17,51642.35,47750.96,51783.24,49710.73,42597.87,48279.89,43202.55,51854.23,61148.02,62442.4,57040.7,54487.63,51725.62,43017.24,50743.38,52271.79,51290.19,52109.67,43073.8,51571.6,72097.76,65513.1,66830.12,68334.3,68959.76,66074.38,71463.41,71389.8,73071.4,69498.83,65344.2,68399.06,63739.13,61957.53,67609.86,68254.91,61992.07,63117.14,67200.9,69891.73,69991.93,71292.74,69858.51,69482.49,64024.07,70790.2,63788.62,68133.3,67841.56,62385.04,69580.07,70019.24,69372.75,71630.3,69169.93,67825.53,67139.84,68889.74,65689.86,63423.46,63810.13,61306.57,63465.56,70643.38,63944.77,64946.2,66832.03,65969.31,64296.64,64501.36,63770.47,60680.03,63863.03,68480.36,63120.14,64915.79,66381.37,63810.15,69710.45,65466.13,63470.55,63178.07,62305.25,61183.35,63070.29,60794.9,61470.58,66278.54,61579.98,66208.85,65232.59,67027.25,66914.18,64003.37,62945.6,63893.21,60808.75,59066.36,68560.94,69298.65,68507.69,69429.66,67536.18,67668.34,62877.63,67975.17,68392.69,69147.4,70157.92,71419.28,58348.9,68355.21,70801.82,69383.93,69305.88,69651.43,70539.99,67323.79,65181.11,66507.91,66687.03,66039.62,66791.29,68265.01,64877.15,69542.18,66224.4,68809.08,67765.76,67798.58,63199.58,60296.59,61819.44,62782.47,60435.99,60850.08,64288.63,61696.15,64144.24,71115.3,64998.33,60985.39,63982.43,55865.77,56731.74,68163.68,57335.47,58047.19,64089.15,57881.39,59201.27,60784.37,64726.11,65053.57,58230.43,57715.06,56634.57,64625.44,60220.92,66210.51,66830.94,68241.55,67894.1,67888.71,65790.95,57017.99,65935.38,67538.93,66672.18,67118.58,62924.99,62132.69,65393.26,56030.34,54030.1,58152.36,60707.03,55098.31,60587.33,59478.93,59446.06,58420.97,61152.68,57561.04,58682.81,61688.46,59350.04,60840.44,58840.55,58712.54,64159.34,64228.72,62851.63,59416.98,61497.39,59351.92,60928.8,58975.84,64033.28,59021.22,60363.22,65362.79,59015.58,59137.62,53970.09,54159.96,54876.86,57045.5,56176.55,57312.12,57633.2,60317.79,58196.55,59994.57,60494.99,58123.54,63209.64,61761.0,59146.04,57972.35,59121.13,57494.39,63565.99,65619.03,65850.3,65153.59,63157.2,65776.19,63327.02,63343.55,63344.88,62944.89,57317.8,64255.47,68428.74,62238.25,62171.09,69021.97,67636.36,60635.14,67420.78,62512.51,63206.78,62904.47,66091.5,67085.31,62830.06,60330.71,62088.0,68194.21,60746.37,70307.05,72365.37,67431.31,69950.8,67100.6,66729.82,68019.06,72744.75,67381.26,68364.02,60817.98,60649.8,66672.3,62086.44,75841.88,76491.99,76679.07,80399.71,88660.52,87943.93,91039.29,90584.28,89851.84,90450.36,92298.47,98320.27,87328.87,75573.91,90386.07,67830.72,97900.38,93020.0,95868.06,95663.79,69390.29,96372.3,69364.23,69511.35,97474.44,98912.69,91965.86,94299.39,68757.18,97705.35,101116.31,97266.2,96610.55,101133.62,99981.99,97462.36,101415.7,104446.39,106072.77,106137.67,100231.42,99843.88,101435.57,96943.47,94845.13,95858.41,95830.65,97805.26,99738.55,95173.03,95336.17,92794.72,93734.42,93548.04,94289.97,95753.96,99441.97,98673.72,97281.41,98606.9,97220.98],\"high\":[47701.27,43199.71,40176.92,41686.69,41878.66,41881.65,42192.36,42928.57,43257.08,43565.51,43063.76,46512.76,49053.64,40307.22,40563.02,95280.86,43374.52,42198.49,42250.29,102711.85,102486.31,98842.08,98777.0,98985.11,97849.19,97269.91,95378.19,43750.58,43869.27,43336.39,42830.87,95152.46,43394.61,44406.86,45620.58,48195.15,43564.41,50333.62,52833.06,52064.57,52584.76,52157.79,48164.7,52495.47,50375.16,43119.65,48593.23,43495.86,52376.04,63657.19,64075.18,57606.19,54919.4,51982.69,43380.86,51545.85,53017.16,52081.91,52406.6,43290.78,51700.0,72827.85,68235.87,68000.0,68556.81,69877.25,67637.53,73070.41,73804.0,73657.36,72418.63,70050.09,68909.69,69129.53,68123.01,68965.27,68505.54,62438.34,63238.78,67628.32,71199.75,71557.2,71387.36,70924.16,71782.35,66000.0,71584.46,66639.12,70051.74,68107.07,63142.55,70310.39,71311.32,70312.38,72799.0,71732.3,68758.84,71231.63,69669.54,65844.96,66831.99,64377.47,64508.0,64147.47,71164.7,67954.74,65429.87,67236.34,66904.21,67066.42,65284.4,64810.57,64737.17,64216.14,69311.77,64367.44,65695.32,67166.34,65449.81,71300.45,69677.15,63924.8,65520.27,64413.18,63031.29,63442.43,63477.76,61873.68,67696.21,63117.63,66458.53,66748.9,67459.3,67377.82,64644.63,63464.75,64542.11,61500.0,59626.02,69272.0,69611.13,69536.26,70697.44,69040.8,68938.66,63344.3,70092.39,69595.69,70671.36,71966.1,71525.1,60835.38,69534.61,71682.42,72000.0,69570.04,69851.05,71095.74,69587.2,66595.27,67306.25,66985.53,67356.81,68455.73,70017.55,66483.84,70198.64,66475.22,70303.81,67891.6,68466.9,64521.07,63326.76,62416.42,63053.29,62218.29,62490.94,64543.05,62431.72,65047.31,71783.13,65719.14,61221.93,65109.14,58437.93,58206.78,68367.15,59530.43,58289.02,66115.15,58527.17,59859.18,61409.69,64907.24,65380.25,58480.11,59469.44,57536.22,66858.94,62306.6,67000.0,70091.09,68364.45,69403.82,68217.64,66170.25,60504.73,67756.83,68488.84,67412.9,67606.16,63872.14,63266.45,67115.37,57052.81,58289.01,61116.23,62193.82,57732.5,61576.99,59704.15,59610.75,60273.01,61828.44,59852.53,61806.85,62733.94,60697.91,61739.21,59831.1,61864.01,64494.98,65057.23,64463.7,63214.9,65597.85,61156.05,61477.09,59448.68,64977.93,60229.94,61410.04,65629.24,61405.92,59915.18,57020.6,54855.68,55312.88,58084.72,58332.0,58000.43,58045.71,61352.6,59207.29,60610.17,60629.14,58600.69,64131.14,61786.17,60382.16,58525.1,59419.13,59814.8,64009.78,66076.04,66248.51,65844.64,64824.84,66465.48,64745.5,65612.05,63549.95,63858.13,59072.68,64696.25,69025.66,64465.08,63208.38,69405.07,68416.38,62545.55,67936.81,63424.28,63478.48,63291.23,66515.34,67962.51,62970.98,61363.06,62370.38,68852.34,61480.78,72686.14,72961.57,67841.71,70283.11,67459.43,68778.0,68333.67,73638.92,69525.33,68689.75,64123.01,62376.51,67470.47,62483.94,76865.1,77209.4,76907.67,81503.46,89566.29,89939.94,91852.0,91779.23,91444.67,92619.21,93959.73,98986.68,91778.46,76412.91,93268.25,69490.94,98574.88,98887.67,97228.73,96567.11,70553.42,97457.95,69912.67,71641.67,99300.0,99750.0,94980.06,94892.43,69387.65,98931.47,101363.62,101217.01,98279.91,101903.65,102542.08,102797.57,102643.15,105243.75,107837.25,108367.11,106484.02,100443.66,101923.61,104075.42,96531.13,96304.56,98154.98,98255.2,101912.64,97410.08,95717.16,95026.09,95336.24,96258.81,97506.26,99966.59,99569.75,99501.63,99557.72,99388.6,97835.46],\"low\":[44316.94,42206.52,38547.38,39435.74,41498.77,41462.84,40269.67,40683.79,42443.26,42070.97,41723.69,41446.36,45592.95,39549.0,39451.63,92226.88,41715.63,41394.0,39831.65,96154.14,97923.95,97269.93,97536.31,96105.41,94384.72,92528.67,91210.17,42286.34,42688.07,41798.16,41623.03,92850.82,42579.83,42791.65,44337.49,45252.85,42258.0,47710.19,51310.29,49231.1,51565.87,50612.59,46848.62,51685.34,48309.08,42237.09,47571.89,42552.52,50610.0,60367.33,56696.69,54461.08,50899.03,51280.22,42887.88,50525.49,50760.0,50942.03,51163.88,41889.33,50584.28,67024.52,64526.16,65559.26,67884.72,68096.6,62787.61,68633.88,68533.79,71338.43,65592.03,64816.0,64540.75,59068.56,61561.45,66579.91,62318.53,61568.13,61316.97,63778.15,66386.08,69267.17,69558.91,69004.16,68406.35,63000.01,68898.81,62306.4,66069.72,60779.45,60770.35,69548.05,69556.76,68838.42,69046.76,68215.41,65970.96,65128.78,67463.24,62137.5,62298.36,61615.68,59646.86,60799.52,67501.87,60543.32,63098.37,64515.5,64481.8,63601.62,62794.87,63321.72,59062.11,61769.7,65080.43,62778.71,64237.27,65799.99,59591.3,68059.89,64582.76,62399.53,62706.38,62260.9,60873.62,60630.37,60179.42,60620.55,65877.73,61125.95,61322.3,64592.72,65098.65,66581.32,62881.51,60758.25,62545.74,60477.06,56952.62,66615.13,68511.66,68196.78,68265.0,66651.41,67140.56,58817.75,66288.34,67269.18,68902.39,69162.63,66048.66,56565.7,67139.39,70117.5,68317.57,69169.74,69020.9,68574.31,66034.15,64045.79,65121.0,66045.1,65054.04,66240.25,66907.73,64552.95,69177.75,65860.77,67619.29,67442.0,67302.56,63180.22,58406.91,60261.49,60721.62,60021.11,60708.75,63944.25,60606.7,63374.5,70383.17,64658.71,60397.37,63228.08,55732.26,54289.82,65767.08,57048.1,56286.05,63853.96,56541.14,57757.21,59194.61,60657.44,62395.28,56024.71,57159.89,53455.92,64528.88,59402.31,65305.72,66424.58,67050.47,66657.49,65722.76,63459.79,56763.03,65428.32,66567.96,63300.0,66219.32,62522.6,61812.1,65106.02,53958.86,49023.6,57187.38,59849.02,54559.16,58420.67,58794.36,57811.18,58406.56,58788.1,56114.48,58444.38,54733.57,57652.88,59498.64,57089.73,58300.0,63546.71,63783.38,62793.03,58021.99,61233.79,58728.3,60248.21,58748.41,60345.48,57849.29,59723.69,62287.81,58568.97,57712.89,52554.71,53763.64,53632.79,54595.8,55591.4,55544.46,56400.54,57622.09,57489.66,59420.16,57642.52,57333.59,62348.13,59184.97,58687.79,55621.01,57119.73,57411.08,62375.94,65428.57,65428.57,62672.72,62948.42,64816.87,62583.98,62863.86,62751.35,61560.94,57206.14,62705.98,67186.51,62127.3,61869.42,68109.38,66765.04,60303.51,66665.07,60100.0,62499.0,62050.67,62459.63,64797.64,61811.24,58929.86,61692.29,66516.36,59829.05,69684.63,71438.09,66573.98,67630.57,66445.28,65593.25,66938.55,69764.03,66847.98,68011.38,60171.28,59981.91,65238.67,60464.56,74428.28,75583.43,75724.31,76489.45,80209.65,85068.06,87085.72,90058.05,88714.79,89362.82,90365.91,94036.89,86681.7,69303.25,86126.4,66834.51,95631.29,92600.54,91780.9,94650.28,67478.17,96101.14,69026.19,68811.94,95367.79,97148.25,90760.58,91481.25,67482.52,97121.98,98669.32,94100.55,94275.23,95670.35,99295.19,95666.0,100613.34,101252.67,103347.78,105333.93,99991.89,98872.96,99199.07,91152.8,92509.89,93532.57,94401.98,92264.82,96335.48,94259.09,94135.74,91524.66,93027.16,92043.86,93426.98,95178.67,97657.75,93568.36,96410.72,94576.24,95675.96],\"open\":[46118.51,43135.3,39558.16,41579.2,41689.34,41675.58,41317.41,42786.7,42775.36,42498.41,42833.23,46335.89,46647.21,40069.97,39911.11,92525.97,41754.77,41829.38,39948.57,102239.81,98484.07,98265.91,98265.11,97028.27,94604.24,96957.05,95057.33,42934.33,43302.55,42036.62,42128.55,93551.63,42710.4,43094.78,44354.83,45310.92,42590.09,48311.11,51800.63,49711.8,51891.89,52127.88,47129.13,52147.05,49927.5,42999.66,47747.47,43098.04,52270.91,62427.46,57042.88,54475.8,51741.27,51568.95,43209.52,51289.32,51772.1,51853.47,51660.89,42597.56,50745.42,68956.16,67858.52,66071.53,68137.51,68328.72,63720.35,72097.97,73080.08,71460.37,71387.01,69498.86,65319.84,68255.08,67605.89,68405.19,63107.96,62377.83,61992.76,63969.09,67237.24,69878.57,69582.27,70794.34,69994.71,63796.5,69451.91,65500.38,66830.88,61932.64,61148.91,69852.92,70626.81,68899.75,69359.85,71612.47,68494.39,69989.02,67821.63,63932.21,65672.63,63400.35,63795.65,61267.61,69118.62,67095.3,63819.63,64925.29,65451.52,66499.81,64287.79,64540.09,63879.26,63114.34,65970.38,63473.16,64950.25,66845.21,63423.01,71289.38,69656.15,63770.12,64003.37,63172.52,62317.0,61193.63,63074.68,60820.39,66906.76,62938.78,61579.98,66208.85,65245.96,67019.32,63901.14,61470.58,62884.78,60795.54,58344.44,67963.4,68562.22,69285.59,68516.16,68353.67,68411.88,59069.02,69147.4,69427.06,70157.92,71436.49,66269.25,60665.22,67639.52,71109.55,70798.03,69315.26,69291.74,68813.73,69530.9,66501.49,66667.72,66218.78,66779.47,68263.26,67307.57,64968.13,69629.3,66025.79,67772.64,67563.82,67757.2,64263.34,63171.55,60296.59,60982.71,61695.47,61810.7,64168.04,60809.95,64881.71,70540.99,65211.24,60431.16,64116.0,58236.59,55859.63,67172.2,57720.49,56708.26,65048.84,57348.26,57905.13,59194.61,60797.92,64732.27,56623.63,58040.03,57013.24,66183.14,62142.37,66784.87,68249.16,67868.66,67920.85,65829.42,65360.87,60220.4,67511.47,68187.5,63990.75,66696.51,62787.87,62918.55,65931.68,54018.4,58125.77,60681.71,61487.16,56008.56,59352.65,58897.69,58416.16,59514.3,59012.51,58681.3,60578.33,55112.07,58705.45,61687.05,57540.35,60919.85,64056.75,64157.42,64221.55,62832.83,65347.43,59025.23,60843.94,59108.23,60374.9,59412.39,61155.32,64607.51,59456.67,59352.32,56177.8,53967.12,54169.9,54853.69,57976.01,57637.74,57046.53,58213.17,59115.31,60502.66,58202.13,57365.19,62963.87,60316.55,60011.55,57484.9,57291.11,59134.98,63385.04,65877.54,65811.47,63159.06,64274.02,65156.54,63581.51,65609.19,63179.85,61761.0,58965.04,63348.01,67413.45,62828.63,62230.62,68394.12,67120.25,62165.29,67628.96,60330.71,62537.85,63198.04,62882.25,66096.22,62001.6,60626.76,62087.19,66672.16,60632.59,72358.97,72740.83,67383.52,68051.95,66672.5,68205.56,67113.51,69977.45,69039.27,68429.07,63397.65,60803.22,67439.31,60746.98,75570.91,75873.35,76502.81,76678.25,80365.88,88669.33,87304.3,91053.99,90589.92,89816.79,90416.0,94306.45,90383.89,69368.86,87960.84,68711.2,97687.49,97936.78,91981.17,95851.79,67845.29,97457.95,69518.76,70296.33,95657.58,98340.88,92958.42,92337.41,69338.52,98889.14,99841.61,101117.98,97262.5,96610.56,101177.02,100181.42,101428.02,101385.67,104488.76,106054.03,106129.98,99727.43,99987.59,98595.69,95182.65,95831.43,97189.21,97459.59,96941.23,97285.46,94246.87,93708.93,95336.24,92782.14,95750.88,99453.62,98686.74,94843.4,97805.26,95872.91,96381.1],\"x\":[\"2024-01-01T00:00:00\",\"2024-01-01T00:00:00\",\"2024-01-01T00:00:00\",\"2024-01-01T00:00:00\",\"2024-01-01T00:00:00\",\"2024-01-01T00:00:00\",\"2024-01-01T00:00:00\",\"2024-01-01T00:00:00\",\"2024-01-01T00:00:00\",\"2024-01-01T00:00:00\",\"2024-01-01T00:00:00\",\"2024-01-01T00:00:00\",\"2024-01-01T00:00:00\",\"2024-01-01T00:00:00\",\"2024-01-01T00:00:00\",\"2025-01-01T00:00:00\",\"2024-01-01T00:00:00\",\"2024-01-01T00:00:00\",\"2024-01-01T00:00:00\",\"2025-01-01T00:00:00\",\"2025-01-01T00:00:00\",\"2025-01-01T00:00:00\",\"2025-01-01T00:00:00\",\"2025-01-01T00:00:00\",\"2025-01-01T00:00:00\",\"2025-01-01T00:00:00\",\"2025-01-01T00:00:00\",\"2024-01-01T00:00:00\",\"2024-01-01T00:00:00\",\"2024-01-01T00:00:00\",\"2024-01-01T00:00:00\",\"2025-01-01T00:00:00\",\"2024-02-01T00:00:00\",\"2024-02-01T00:00:00\",\"2024-02-01T00:00:00\",\"2024-02-01T00:00:00\",\"2024-02-01T00:00:00\",\"2024-02-01T00:00:00\",\"2024-02-01T00:00:00\",\"2024-02-01T00:00:00\",\"2024-02-01T00:00:00\",\"2024-02-01T00:00:00\",\"2024-02-01T00:00:00\",\"2024-02-01T00:00:00\",\"2024-02-01T00:00:00\",\"2024-02-01T00:00:00\",\"2024-02-01T00:00:00\",\"2024-02-01T00:00:00\",\"2024-02-01T00:00:00\",\"2024-02-01T00:00:00\",\"2024-02-01T00:00:00\",\"2024-02-01T00:00:00\",\"2024-02-01T00:00:00\",\"2024-02-01T00:00:00\",\"2024-02-01T00:00:00\",\"2024-02-01T00:00:00\",\"2024-02-01T00:00:00\",\"2024-02-01T00:00:00\",\"2024-02-01T00:00:00\",\"2024-02-01T00:00:00\",\"2024-02-01T00:00:00\",\"2024-03-01T00:00:00\",\"2024-03-01T00:00:00\",\"2024-03-01T00:00:00\",\"2024-03-01T00:00:00\",\"2024-03-01T00:00:00\",\"2024-03-01T00:00:00\",\"2024-03-01T00:00:00\",\"2024-03-01T00:00:00\",\"2024-03-01T00:00:00\",\"2024-03-01T00:00:00\",\"2024-03-01T00:00:00\",\"2024-03-01T00:00:00\",\"2024-03-01T00:00:00\",\"2024-03-01T00:00:00\",\"2024-03-01T00:00:00\",\"2024-03-01T00:00:00\",\"2024-03-01T00:00:00\",\"2024-03-01T00:00:00\",\"2024-03-01T00:00:00\",\"2024-03-01T00:00:00\",\"2024-03-01T00:00:00\",\"2024-03-01T00:00:00\",\"2024-03-01T00:00:00\",\"2024-03-01T00:00:00\",\"2024-03-01T00:00:00\",\"2024-03-01T00:00:00\",\"2024-03-01T00:00:00\",\"2024-03-01T00:00:00\",\"2024-03-01T00:00:00\",\"2024-03-01T00:00:00\",\"2024-03-01T00:00:00\",\"2024-04-01T00:00:00\",\"2024-04-01T00:00:00\",\"2024-04-01T00:00:00\",\"2024-04-01T00:00:00\",\"2024-04-01T00:00:00\",\"2024-04-01T00:00:00\",\"2024-04-01T00:00:00\",\"2024-04-01T00:00:00\",\"2024-04-01T00:00:00\",\"2024-04-01T00:00:00\",\"2024-04-01T00:00:00\",\"2024-04-01T00:00:00\",\"2024-04-01T00:00:00\",\"2024-04-01T00:00:00\",\"2024-04-01T00:00:00\",\"2024-04-01T00:00:00\",\"2024-04-01T00:00:00\",\"2024-04-01T00:00:00\",\"2024-04-01T00:00:00\",\"2024-04-01T00:00:00\",\"2024-04-01T00:00:00\",\"2024-04-01T00:00:00\",\"2024-04-01T00:00:00\",\"2024-04-01T00:00:00\",\"2024-04-01T00:00:00\",\"2024-04-01T00:00:00\",\"2024-04-01T00:00:00\",\"2024-04-01T00:00:00\",\"2024-04-01T00:00:00\",\"2024-04-01T00:00:00\",\"2024-05-01T00:00:00\",\"2024-05-01T00:00:00\",\"2024-05-01T00:00:00\",\"2024-05-01T00:00:00\",\"2024-05-01T00:00:00\",\"2024-05-01T00:00:00\",\"2024-05-01T00:00:00\",\"2024-05-01T00:00:00\",\"2024-05-01T00:00:00\",\"2024-05-01T00:00:00\",\"2024-05-01T00:00:00\",\"2024-05-01T00:00:00\",\"2024-05-01T00:00:00\",\"2024-05-01T00:00:00\",\"2024-05-01T00:00:00\",\"2024-05-01T00:00:00\",\"2024-05-01T00:00:00\",\"2024-05-01T00:00:00\",\"2024-05-01T00:00:00\",\"2024-05-01T00:00:00\",\"2024-05-01T00:00:00\",\"2024-05-01T00:00:00\",\"2024-05-01T00:00:00\",\"2024-05-01T00:00:00\",\"2024-05-01T00:00:00\",\"2024-05-01T00:00:00\",\"2024-05-01T00:00:00\",\"2024-05-01T00:00:00\",\"2024-05-01T00:00:00\",\"2024-05-01T00:00:00\",\"2024-05-01T00:00:00\",\"2024-06-01T00:00:00\",\"2024-06-01T00:00:00\",\"2024-06-01T00:00:00\",\"2024-06-01T00:00:00\",\"2024-06-01T00:00:00\",\"2024-06-01T00:00:00\",\"2024-06-01T00:00:00\",\"2024-06-01T00:00:00\",\"2024-06-01T00:00:00\",\"2024-06-01T00:00:00\",\"2024-06-01T00:00:00\",\"2024-06-01T00:00:00\",\"2024-06-01T00:00:00\",\"2024-06-01T00:00:00\",\"2024-06-01T00:00:00\",\"2024-06-01T00:00:00\",\"2024-06-01T00:00:00\",\"2024-06-01T00:00:00\",\"2024-06-01T00:00:00\",\"2024-06-01T00:00:00\",\"2024-06-01T00:00:00\",\"2024-06-01T00:00:00\",\"2024-06-01T00:00:00\",\"2024-06-01T00:00:00\",\"2024-06-01T00:00:00\",\"2024-06-01T00:00:00\",\"2024-06-01T00:00:00\",\"2024-06-01T00:00:00\",\"2024-06-01T00:00:00\",\"2024-06-01T00:00:00\",\"2024-07-01T00:00:00\",\"2024-07-01T00:00:00\",\"2024-07-01T00:00:00\",\"2024-07-01T00:00:00\",\"2024-07-01T00:00:00\",\"2024-07-01T00:00:00\",\"2024-07-01T00:00:00\",\"2024-07-01T00:00:00\",\"2024-07-01T00:00:00\",\"2024-07-01T00:00:00\",\"2024-07-01T00:00:00\",\"2024-07-01T00:00:00\",\"2024-07-01T00:00:00\",\"2024-07-01T00:00:00\",\"2024-07-01T00:00:00\",\"2024-07-01T00:00:00\",\"2024-07-01T00:00:00\",\"2024-07-01T00:00:00\",\"2024-07-01T00:00:00\",\"2024-07-01T00:00:00\",\"2024-07-01T00:00:00\",\"2024-07-01T00:00:00\",\"2024-07-01T00:00:00\",\"2024-07-01T00:00:00\",\"2024-07-01T00:00:00\",\"2024-07-01T00:00:00\",\"2024-07-01T00:00:00\",\"2024-07-01T00:00:00\",\"2024-07-01T00:00:00\",\"2024-07-01T00:00:00\",\"2024-07-01T00:00:00\",\"2024-08-01T00:00:00\",\"2024-08-01T00:00:00\",\"2024-08-01T00:00:00\",\"2024-08-01T00:00:00\",\"2024-08-01T00:00:00\",\"2024-08-01T00:00:00\",\"2024-08-01T00:00:00\",\"2024-08-01T00:00:00\",\"2024-08-01T00:00:00\",\"2024-08-01T00:00:00\",\"2024-08-01T00:00:00\",\"2024-08-01T00:00:00\",\"2024-08-01T00:00:00\",\"2024-08-01T00:00:00\",\"2024-08-01T00:00:00\",\"2024-08-01T00:00:00\",\"2024-08-01T00:00:00\",\"2024-08-01T00:00:00\",\"2024-08-01T00:00:00\",\"2024-08-01T00:00:00\",\"2024-08-01T00:00:00\",\"2024-08-01T00:00:00\",\"2024-08-01T00:00:00\",\"2024-08-01T00:00:00\",\"2024-08-01T00:00:00\",\"2024-08-01T00:00:00\",\"2024-08-01T00:00:00\",\"2024-08-01T00:00:00\",\"2024-08-01T00:00:00\",\"2024-08-01T00:00:00\",\"2024-08-01T00:00:00\",\"2024-09-01T00:00:00\",\"2024-09-01T00:00:00\",\"2024-09-01T00:00:00\",\"2024-09-01T00:00:00\",\"2024-09-01T00:00:00\",\"2024-09-01T00:00:00\",\"2024-09-01T00:00:00\",\"2024-09-01T00:00:00\",\"2024-09-01T00:00:00\",\"2024-09-01T00:00:00\",\"2024-09-01T00:00:00\",\"2024-09-01T00:00:00\",\"2024-09-01T00:00:00\",\"2024-09-01T00:00:00\",\"2024-09-01T00:00:00\",\"2024-09-01T00:00:00\",\"2024-09-01T00:00:00\",\"2024-09-01T00:00:00\",\"2024-09-01T00:00:00\",\"2024-09-01T00:00:00\",\"2024-09-01T00:00:00\",\"2024-09-01T00:00:00\",\"2024-09-01T00:00:00\",\"2024-09-01T00:00:00\",\"2024-09-01T00:00:00\",\"2024-09-01T00:00:00\",\"2024-09-01T00:00:00\",\"2024-09-01T00:00:00\",\"2024-09-01T00:00:00\",\"2024-09-01T00:00:00\",\"2024-10-01T00:00:00\",\"2024-10-01T00:00:00\",\"2024-10-01T00:00:00\",\"2024-10-01T00:00:00\",\"2024-10-01T00:00:00\",\"2024-10-01T00:00:00\",\"2024-10-01T00:00:00\",\"2024-10-01T00:00:00\",\"2024-10-01T00:00:00\",\"2024-10-01T00:00:00\",\"2024-10-01T00:00:00\",\"2024-10-01T00:00:00\",\"2024-10-01T00:00:00\",\"2024-10-01T00:00:00\",\"2024-10-01T00:00:00\",\"2024-10-01T00:00:00\",\"2024-10-01T00:00:00\",\"2024-10-01T00:00:00\",\"2024-10-01T00:00:00\",\"2024-10-01T00:00:00\",\"2024-10-01T00:00:00\",\"2024-10-01T00:00:00\",\"2024-10-01T00:00:00\",\"2024-10-01T00:00:00\",\"2024-10-01T00:00:00\",\"2024-10-01T00:00:00\",\"2024-10-01T00:00:00\",\"2024-10-01T00:00:00\",\"2024-10-01T00:00:00\",\"2024-10-01T00:00:00\",\"2024-10-01T00:00:00\",\"2024-11-01T00:00:00\",\"2024-11-01T00:00:00\",\"2024-11-01T00:00:00\",\"2024-11-01T00:00:00\",\"2024-11-01T00:00:00\",\"2024-11-01T00:00:00\",\"2024-11-01T00:00:00\",\"2024-11-01T00:00:00\",\"2024-11-01T00:00:00\",\"2024-11-01T00:00:00\",\"2024-11-01T00:00:00\",\"2024-11-01T00:00:00\",\"2024-11-01T00:00:00\",\"2024-11-01T00:00:00\",\"2024-11-01T00:00:00\",\"2024-11-01T00:00:00\",\"2024-11-01T00:00:00\",\"2024-11-01T00:00:00\",\"2024-11-01T00:00:00\",\"2024-11-01T00:00:00\",\"2024-11-01T00:00:00\",\"2024-11-01T00:00:00\",\"2024-11-01T00:00:00\",\"2024-11-01T00:00:00\",\"2024-11-01T00:00:00\",\"2024-11-01T00:00:00\",\"2024-11-01T00:00:00\",\"2024-11-01T00:00:00\",\"2024-11-01T00:00:00\",\"2024-11-01T00:00:00\",\"2024-12-01T00:00:00\",\"2024-12-01T00:00:00\",\"2024-12-01T00:00:00\",\"2024-12-01T00:00:00\",\"2024-12-01T00:00:00\",\"2024-12-01T00:00:00\",\"2024-12-01T00:00:00\",\"2024-12-01T00:00:00\",\"2024-12-01T00:00:00\",\"2024-12-01T00:00:00\",\"2024-12-01T00:00:00\",\"2024-12-01T00:00:00\",\"2024-12-01T00:00:00\",\"2024-12-01T00:00:00\",\"2024-12-01T00:00:00\",\"2024-12-01T00:00:00\",\"2024-12-01T00:00:00\",\"2024-12-01T00:00:00\",\"2024-12-01T00:00:00\",\"2024-12-01T00:00:00\",\"2024-12-01T00:00:00\",\"2024-12-01T00:00:00\",\"2024-12-01T00:00:00\",\"2024-12-01T00:00:00\",\"2024-12-01T00:00:00\",\"2024-12-01T00:00:00\",\"2024-12-01T00:00:00\",\"2024-12-01T00:00:00\",\"2024-12-01T00:00:00\",\"2024-12-01T00:00:00\",\"2024-12-01T00:00:00\"],\"type\":\"candlestick\"}],                        {\"template\":{\"data\":{\"histogram2dcontour\":[{\"type\":\"histogram2dcontour\",\"colorbar\":{\"outlinewidth\":0,\"ticks\":\"\"},\"colorscale\":[[0.0,\"#0d0887\"],[0.1111111111111111,\"#46039f\"],[0.2222222222222222,\"#7201a8\"],[0.3333333333333333,\"#9c179e\"],[0.4444444444444444,\"#bd3786\"],[0.5555555555555556,\"#d8576b\"],[0.6666666666666666,\"#ed7953\"],[0.7777777777777778,\"#fb9f3a\"],[0.8888888888888888,\"#fdca26\"],[1.0,\"#f0f921\"]]}],\"choropleth\":[{\"type\":\"choropleth\",\"colorbar\":{\"outlinewidth\":0,\"ticks\":\"\"}}],\"histogram2d\":[{\"type\":\"histogram2d\",\"colorbar\":{\"outlinewidth\":0,\"ticks\":\"\"},\"colorscale\":[[0.0,\"#0d0887\"],[0.1111111111111111,\"#46039f\"],[0.2222222222222222,\"#7201a8\"],[0.3333333333333333,\"#9c179e\"],[0.4444444444444444,\"#bd3786\"],[0.5555555555555556,\"#d8576b\"],[0.6666666666666666,\"#ed7953\"],[0.7777777777777778,\"#fb9f3a\"],[0.8888888888888888,\"#fdca26\"],[1.0,\"#f0f921\"]]}],\"heatmap\":[{\"type\":\"heatmap\",\"colorbar\":{\"outlinewidth\":0,\"ticks\":\"\"},\"colorscale\":[[0.0,\"#0d0887\"],[0.1111111111111111,\"#46039f\"],[0.2222222222222222,\"#7201a8\"],[0.3333333333333333,\"#9c179e\"],[0.4444444444444444,\"#bd3786\"],[0.5555555555555556,\"#d8576b\"],[0.6666666666666666,\"#ed7953\"],[0.7777777777777778,\"#fb9f3a\"],[0.8888888888888888,\"#fdca26\"],[1.0,\"#f0f921\"]]}],\"heatmapgl\":[{\"type\":\"heatmapgl\",\"colorbar\":{\"outlinewidth\":0,\"ticks\":\"\"},\"colorscale\":[[0.0,\"#0d0887\"],[0.1111111111111111,\"#46039f\"],[0.2222222222222222,\"#7201a8\"],[0.3333333333333333,\"#9c179e\"],[0.4444444444444444,\"#bd3786\"],[0.5555555555555556,\"#d8576b\"],[0.6666666666666666,\"#ed7953\"],[0.7777777777777778,\"#fb9f3a\"],[0.8888888888888888,\"#fdca26\"],[1.0,\"#f0f921\"]]}],\"contourcarpet\":[{\"type\":\"contourcarpet\",\"colorbar\":{\"outlinewidth\":0,\"ticks\":\"\"}}],\"contour\":[{\"type\":\"contour\",\"colorbar\":{\"outlinewidth\":0,\"ticks\":\"\"},\"colorscale\":[[0.0,\"#0d0887\"],[0.1111111111111111,\"#46039f\"],[0.2222222222222222,\"#7201a8\"],[0.3333333333333333,\"#9c179e\"],[0.4444444444444444,\"#bd3786\"],[0.5555555555555556,\"#d8576b\"],[0.6666666666666666,\"#ed7953\"],[0.7777777777777778,\"#fb9f3a\"],[0.8888888888888888,\"#fdca26\"],[1.0,\"#f0f921\"]]}],\"surface\":[{\"type\":\"surface\",\"colorbar\":{\"outlinewidth\":0,\"ticks\":\"\"},\"colorscale\":[[0.0,\"#0d0887\"],[0.1111111111111111,\"#46039f\"],[0.2222222222222222,\"#7201a8\"],[0.3333333333333333,\"#9c179e\"],[0.4444444444444444,\"#bd3786\"],[0.5555555555555556,\"#d8576b\"],[0.6666666666666666,\"#ed7953\"],[0.7777777777777778,\"#fb9f3a\"],[0.8888888888888888,\"#fdca26\"],[1.0,\"#f0f921\"]]}],\"mesh3d\":[{\"type\":\"mesh3d\",\"colorbar\":{\"outlinewidth\":0,\"ticks\":\"\"}}],\"scatter\":[{\"fillpattern\":{\"fillmode\":\"overlay\",\"size\":10,\"solidity\":0.2},\"type\":\"scatter\"}],\"parcoords\":[{\"type\":\"parcoords\",\"line\":{\"colorbar\":{\"outlinewidth\":0,\"ticks\":\"\"}}}],\"scatterpolargl\":[{\"type\":\"scatterpolargl\",\"marker\":{\"colorbar\":{\"outlinewidth\":0,\"ticks\":\"\"}}}],\"bar\":[{\"error_x\":{\"color\":\"#2a3f5f\"},\"error_y\":{\"color\":\"#2a3f5f\"},\"marker\":{\"line\":{\"color\":\"#E5ECF6\",\"width\":0.5},\"pattern\":{\"fillmode\":\"overlay\",\"size\":10,\"solidity\":0.2}},\"type\":\"bar\"}],\"scattergeo\":[{\"type\":\"scattergeo\",\"marker\":{\"colorbar\":{\"outlinewidth\":0,\"ticks\":\"\"}}}],\"scatterpolar\":[{\"type\":\"scatterpolar\",\"marker\":{\"colorbar\":{\"outlinewidth\":0,\"ticks\":\"\"}}}],\"histogram\":[{\"marker\":{\"pattern\":{\"fillmode\":\"overlay\",\"size\":10,\"solidity\":0.2}},\"type\":\"histogram\"}],\"scattergl\":[{\"type\":\"scattergl\",\"marker\":{\"colorbar\":{\"outlinewidth\":0,\"ticks\":\"\"}}}],\"scatter3d\":[{\"type\":\"scatter3d\",\"line\":{\"colorbar\":{\"outlinewidth\":0,\"ticks\":\"\"}},\"marker\":{\"colorbar\":{\"outlinewidth\":0,\"ticks\":\"\"}}}],\"scattermapbox\":[{\"type\":\"scattermapbox\",\"marker\":{\"colorbar\":{\"outlinewidth\":0,\"ticks\":\"\"}}}],\"scatterternary\":[{\"type\":\"scatterternary\",\"marker\":{\"colorbar\":{\"outlinewidth\":0,\"ticks\":\"\"}}}],\"scattercarpet\":[{\"type\":\"scattercarpet\",\"marker\":{\"colorbar\":{\"outlinewidth\":0,\"ticks\":\"\"}}}],\"carpet\":[{\"aaxis\":{\"endlinecolor\":\"#2a3f5f\",\"gridcolor\":\"white\",\"linecolor\":\"white\",\"minorgridcolor\":\"white\",\"startlinecolor\":\"#2a3f5f\"},\"baxis\":{\"endlinecolor\":\"#2a3f5f\",\"gridcolor\":\"white\",\"linecolor\":\"white\",\"minorgridcolor\":\"white\",\"startlinecolor\":\"#2a3f5f\"},\"type\":\"carpet\"}],\"table\":[{\"cells\":{\"fill\":{\"color\":\"#EBF0F8\"},\"line\":{\"color\":\"white\"}},\"header\":{\"fill\":{\"color\":\"#C8D4E3\"},\"line\":{\"color\":\"white\"}},\"type\":\"table\"}],\"barpolar\":[{\"marker\":{\"line\":{\"color\":\"#E5ECF6\",\"width\":0.5},\"pattern\":{\"fillmode\":\"overlay\",\"size\":10,\"solidity\":0.2}},\"type\":\"barpolar\"}],\"pie\":[{\"automargin\":true,\"type\":\"pie\"}]},\"layout\":{\"autotypenumbers\":\"strict\",\"colorway\":[\"#636efa\",\"#EF553B\",\"#00cc96\",\"#ab63fa\",\"#FFA15A\",\"#19d3f3\",\"#FF6692\",\"#B6E880\",\"#FF97FF\",\"#FECB52\"],\"font\":{\"color\":\"#2a3f5f\"},\"hovermode\":\"closest\",\"hoverlabel\":{\"align\":\"left\"},\"paper_bgcolor\":\"white\",\"plot_bgcolor\":\"#E5ECF6\",\"polar\":{\"bgcolor\":\"#E5ECF6\",\"angularaxis\":{\"gridcolor\":\"white\",\"linecolor\":\"white\",\"ticks\":\"\"},\"radialaxis\":{\"gridcolor\":\"white\",\"linecolor\":\"white\",\"ticks\":\"\"}},\"ternary\":{\"bgcolor\":\"#E5ECF6\",\"aaxis\":{\"gridcolor\":\"white\",\"linecolor\":\"white\",\"ticks\":\"\"},\"baxis\":{\"gridcolor\":\"white\",\"linecolor\":\"white\",\"ticks\":\"\"},\"caxis\":{\"gridcolor\":\"white\",\"linecolor\":\"white\",\"ticks\":\"\"}},\"coloraxis\":{\"colorbar\":{\"outlinewidth\":0,\"ticks\":\"\"}},\"colorscale\":{\"sequential\":[[0.0,\"#0d0887\"],[0.1111111111111111,\"#46039f\"],[0.2222222222222222,\"#7201a8\"],[0.3333333333333333,\"#9c179e\"],[0.4444444444444444,\"#bd3786\"],[0.5555555555555556,\"#d8576b\"],[0.6666666666666666,\"#ed7953\"],[0.7777777777777778,\"#fb9f3a\"],[0.8888888888888888,\"#fdca26\"],[1.0,\"#f0f921\"]],\"sequentialminus\":[[0.0,\"#0d0887\"],[0.1111111111111111,\"#46039f\"],[0.2222222222222222,\"#7201a8\"],[0.3333333333333333,\"#9c179e\"],[0.4444444444444444,\"#bd3786\"],[0.5555555555555556,\"#d8576b\"],[0.6666666666666666,\"#ed7953\"],[0.7777777777777778,\"#fb9f3a\"],[0.8888888888888888,\"#fdca26\"],[1.0,\"#f0f921\"]],\"diverging\":[[0,\"#8e0152\"],[0.1,\"#c51b7d\"],[0.2,\"#de77ae\"],[0.3,\"#f1b6da\"],[0.4,\"#fde0ef\"],[0.5,\"#f7f7f7\"],[0.6,\"#e6f5d0\"],[0.7,\"#b8e186\"],[0.8,\"#7fbc41\"],[0.9,\"#4d9221\"],[1,\"#276419\"]]},\"xaxis\":{\"gridcolor\":\"white\",\"linecolor\":\"white\",\"ticks\":\"\",\"title\":{\"standoff\":15},\"zerolinecolor\":\"white\",\"automargin\":true,\"zerolinewidth\":2},\"yaxis\":{\"gridcolor\":\"white\",\"linecolor\":\"white\",\"ticks\":\"\",\"title\":{\"standoff\":15},\"zerolinecolor\":\"white\",\"automargin\":true,\"zerolinewidth\":2},\"scene\":{\"xaxis\":{\"backgroundcolor\":\"#E5ECF6\",\"gridcolor\":\"white\",\"linecolor\":\"white\",\"showbackground\":true,\"ticks\":\"\",\"zerolinecolor\":\"white\",\"gridwidth\":2},\"yaxis\":{\"backgroundcolor\":\"#E5ECF6\",\"gridcolor\":\"white\",\"linecolor\":\"white\",\"showbackground\":true,\"ticks\":\"\",\"zerolinecolor\":\"white\",\"gridwidth\":2},\"zaxis\":{\"backgroundcolor\":\"#E5ECF6\",\"gridcolor\":\"white\",\"linecolor\":\"white\",\"showbackground\":true,\"ticks\":\"\",\"zerolinecolor\":\"white\",\"gridwidth\":2}},\"shapedefaults\":{\"line\":{\"color\":\"#2a3f5f\"}},\"annotationdefaults\":{\"arrowcolor\":\"#2a3f5f\",\"arrowhead\":0,\"arrowwidth\":1},\"geo\":{\"bgcolor\":\"white\",\"landcolor\":\"#E5ECF6\",\"subunitcolor\":\"white\",\"showland\":true,\"showlakes\":true,\"lakecolor\":\"white\"},\"title\":{\"x\":0.05},\"mapbox\":{\"style\":\"light\"}}}},                        {\"responsive\": true}                    ).then(function(){\n",
              "                            \n",
              "var gd = document.getElementById('a4f33bcc-f5e7-4cab-8bab-02179a59ebb1');\n",
              "var x = new MutationObserver(function (mutations, observer) {{\n",
              "        var display = window.getComputedStyle(gd).display;\n",
              "        if (!display || display === 'none') {{\n",
              "            console.log([gd, 'removed!']);\n",
              "            Plotly.purge(gd);\n",
              "            observer.disconnect();\n",
              "        }}\n",
              "}});\n",
              "\n",
              "// Listen for the removal of the full notebook cells\n",
              "var notebookContainer = gd.closest('#notebook-container');\n",
              "if (notebookContainer) {{\n",
              "    x.observe(notebookContainer, {childList: true});\n",
              "}}\n",
              "\n",
              "// Listen for the clearing of the current output cell\n",
              "var outputEl = gd.closest('.output');\n",
              "if (outputEl) {{\n",
              "    x.observe(outputEl, {childList: true});\n",
              "}}\n",
              "\n",
              "                        })                };                            </script>        </div>\n",
              "</body>\n",
              "</html>"
            ]
          },
          "metadata": {}
        }
      ]
    },
    {
      "cell_type": "code",
      "source": [
        "data['date'] = pd.to_datetime(data['date'], unit='s')\n",
        "data = data.sort_values(by='date')"
      ],
      "metadata": {
        "id": "ledjhKsevuAq"
      },
      "execution_count": null,
      "outputs": []
    },
    {
      "cell_type": "code",
      "source": [
        "data_face = data[['date','close']]\n",
        "print(\"Shape of close dataframe:\", data_face.shape)"
      ],
      "metadata": {
        "colab": {
          "base_uri": "https://localhost:8080/"
        },
        "id": "FvGTzU8OwyK5",
        "outputId": "d4ab771b-4e04-4423-c2b4-483c2f6307da"
      },
      "execution_count": null,
      "outputs": [
        {
          "output_type": "stream",
          "name": "stdout",
          "text": [
            "Shape of close dataframe: (367, 2)\n"
          ]
        }
      ]
    },
    {
      "cell_type": "code",
      "source": [
        "fig = px.line(data_face, x=data_face.date, y=data_face.close,labels={'date':'date','close':'price'})\n",
        "fig.update_traces(marker_line_width=2, opacity=0.8, marker_line_color='orange')\n",
        "fig.update_layout(title_text='Whole period of timeframe of close price 2020-2025', plot_bgcolor='white',\n",
        "                  font_size=15, font_color='black')\n",
        "fig.update_xaxes(showgrid=False)\n",
        "fig.update_yaxes(showgrid=False)\n",
        "fig.show()"
      ],
      "metadata": {
        "colab": {
          "base_uri": "https://localhost:8080/"
        },
        "id": "CUilYDzYwyHE",
        "outputId": "ffd1ecdf-5b5b-4285-9563-1a18158c1cf4"
      },
      "execution_count": null,
      "outputs": [
        {
          "output_type": "display_data",
          "data": {
            "text/html": [
              "<html>\n",
              "<head><meta charset=\"utf-8\" /></head>\n",
              "<body>\n",
              "    <div>            <script src=\"https://cdnjs.cloudflare.com/ajax/libs/mathjax/2.7.5/MathJax.js?config=TeX-AMS-MML_SVG\"></script><script type=\"text/javascript\">if (window.MathJax && window.MathJax.Hub && window.MathJax.Hub.Config) {window.MathJax.Hub.Config({SVG: {font: \"STIX-Web\"}});}</script>                <script type=\"text/javascript\">window.PlotlyConfig = {MathJaxConfig: 'local'};</script>\n",
              "        <script charset=\"utf-8\" src=\"https://cdn.plot.ly/plotly-2.35.2.min.js\"></script>                <div id=\"28b53f89-b272-4cde-80f0-1c7d8c0bf3e6\" class=\"plotly-graph-div\" style=\"height:525px; width:100%;\"></div>            <script type=\"text/javascript\">                                    window.PLOTLYENV=window.PLOTLYENV || {};                                    if (document.getElementById(\"28b53f89-b272-4cde-80f0-1c7d8c0bf3e6\")) {                    Plotly.newPlot(                        \"28b53f89-b272-4cde-80f0-1c7d8c0bf3e6\",                        [{\"hovertemplate\":\"date=%{x}\\u003cbr\\u003eprice=%{y}\\u003cextra\\u003e\\u003c\\u002fextra\\u003e\",\"legendgroup\":\"\",\"line\":{\"color\":\"#636efa\",\"dash\":\"solid\"},\"marker\":{\"symbol\":\"circle\",\"line\":{\"color\":\"orange\",\"width\":2}},\"mode\":\"lines\",\"name\":\"\",\"orientation\":\"v\",\"showlegend\":false,\"x\":[\"2024-01-01T00:00:00\",\"2024-01-01T00:00:00\",\"2024-01-01T00:00:00\",\"2024-01-01T00:00:00\",\"2024-01-01T00:00:00\",\"2024-01-01T00:00:00\",\"2024-01-01T00:00:00\",\"2024-01-01T00:00:00\",\"2024-01-01T00:00:00\",\"2024-01-01T00:00:00\",\"2024-01-01T00:00:00\",\"2024-01-01T00:00:00\",\"2024-01-01T00:00:00\",\"2024-01-01T00:00:00\",\"2024-01-01T00:00:00\",\"2024-01-01T00:00:00\",\"2024-01-01T00:00:00\",\"2024-01-01T00:00:00\",\"2024-01-01T00:00:00\",\"2024-01-01T00:00:00\",\"2024-01-01T00:00:00\",\"2024-01-01T00:00:00\",\"2024-02-01T00:00:00\",\"2024-02-01T00:00:00\",\"2024-02-01T00:00:00\",\"2024-02-01T00:00:00\",\"2024-02-01T00:00:00\",\"2024-02-01T00:00:00\",\"2024-02-01T00:00:00\",\"2024-02-01T00:00:00\",\"2024-02-01T00:00:00\",\"2024-02-01T00:00:00\",\"2024-02-01T00:00:00\",\"2024-02-01T00:00:00\",\"2024-02-01T00:00:00\",\"2024-02-01T00:00:00\",\"2024-02-01T00:00:00\",\"2024-02-01T00:00:00\",\"2024-02-01T00:00:00\",\"2024-02-01T00:00:00\",\"2024-02-01T00:00:00\",\"2024-02-01T00:00:00\",\"2024-02-01T00:00:00\",\"2024-02-01T00:00:00\",\"2024-02-01T00:00:00\",\"2024-02-01T00:00:00\",\"2024-02-01T00:00:00\",\"2024-02-01T00:00:00\",\"2024-02-01T00:00:00\",\"2024-02-01T00:00:00\",\"2024-02-01T00:00:00\",\"2024-03-01T00:00:00\",\"2024-03-01T00:00:00\",\"2024-03-01T00:00:00\",\"2024-03-01T00:00:00\",\"2024-03-01T00:00:00\",\"2024-03-01T00:00:00\",\"2024-03-01T00:00:00\",\"2024-03-01T00:00:00\",\"2024-03-01T00:00:00\",\"2024-03-01T00:00:00\",\"2024-03-01T00:00:00\",\"2024-03-01T00:00:00\",\"2024-03-01T00:00:00\",\"2024-03-01T00:00:00\",\"2024-03-01T00:00:00\",\"2024-03-01T00:00:00\",\"2024-03-01T00:00:00\",\"2024-03-01T00:00:00\",\"2024-03-01T00:00:00\",\"2024-03-01T00:00:00\",\"2024-03-01T00:00:00\",\"2024-03-01T00:00:00\",\"2024-03-01T00:00:00\",\"2024-03-01T00:00:00\",\"2024-03-01T00:00:00\",\"2024-03-01T00:00:00\",\"2024-03-01T00:00:00\",\"2024-03-01T00:00:00\",\"2024-03-01T00:00:00\",\"2024-03-01T00:00:00\",\"2024-03-01T00:00:00\",\"2024-04-01T00:00:00\",\"2024-04-01T00:00:00\",\"2024-04-01T00:00:00\",\"2024-04-01T00:00:00\",\"2024-04-01T00:00:00\",\"2024-04-01T00:00:00\",\"2024-04-01T00:00:00\",\"2024-04-01T00:00:00\",\"2024-04-01T00:00:00\",\"2024-04-01T00:00:00\",\"2024-04-01T00:00:00\",\"2024-04-01T00:00:00\",\"2024-04-01T00:00:00\",\"2024-04-01T00:00:00\",\"2024-04-01T00:00:00\",\"2024-04-01T00:00:00\",\"2024-04-01T00:00:00\",\"2024-04-01T00:00:00\",\"2024-04-01T00:00:00\",\"2024-04-01T00:00:00\",\"2024-04-01T00:00:00\",\"2024-04-01T00:00:00\",\"2024-04-01T00:00:00\",\"2024-04-01T00:00:00\",\"2024-04-01T00:00:00\",\"2024-04-01T00:00:00\",\"2024-04-01T00:00:00\",\"2024-04-01T00:00:00\",\"2024-04-01T00:00:00\",\"2024-04-01T00:00:00\",\"2024-05-01T00:00:00\",\"2024-05-01T00:00:00\",\"2024-05-01T00:00:00\",\"2024-05-01T00:00:00\",\"2024-05-01T00:00:00\",\"2024-05-01T00:00:00\",\"2024-05-01T00:00:00\",\"2024-05-01T00:00:00\",\"2024-05-01T00:00:00\",\"2024-05-01T00:00:00\",\"2024-05-01T00:00:00\",\"2024-05-01T00:00:00\",\"2024-05-01T00:00:00\",\"2024-05-01T00:00:00\",\"2024-05-01T00:00:00\",\"2024-05-01T00:00:00\",\"2024-05-01T00:00:00\",\"2024-05-01T00:00:00\",\"2024-05-01T00:00:00\",\"2024-05-01T00:00:00\",\"2024-05-01T00:00:00\",\"2024-05-01T00:00:00\",\"2024-05-01T00:00:00\",\"2024-05-01T00:00:00\",\"2024-05-01T00:00:00\",\"2024-05-01T00:00:00\",\"2024-05-01T00:00:00\",\"2024-05-01T00:00:00\",\"2024-05-01T00:00:00\",\"2024-05-01T00:00:00\",\"2024-05-01T00:00:00\",\"2024-06-01T00:00:00\",\"2024-06-01T00:00:00\",\"2024-06-01T00:00:00\",\"2024-06-01T00:00:00\",\"2024-06-01T00:00:00\",\"2024-06-01T00:00:00\",\"2024-06-01T00:00:00\",\"2024-06-01T00:00:00\",\"2024-06-01T00:00:00\",\"2024-06-01T00:00:00\",\"2024-06-01T00:00:00\",\"2024-06-01T00:00:00\",\"2024-06-01T00:00:00\",\"2024-06-01T00:00:00\",\"2024-06-01T00:00:00\",\"2024-06-01T00:00:00\",\"2024-06-01T00:00:00\",\"2024-06-01T00:00:00\",\"2024-06-01T00:00:00\",\"2024-06-01T00:00:00\",\"2024-06-01T00:00:00\",\"2024-06-01T00:00:00\",\"2024-06-01T00:00:00\",\"2024-06-01T00:00:00\",\"2024-06-01T00:00:00\",\"2024-06-01T00:00:00\",\"2024-06-01T00:00:00\",\"2024-06-01T00:00:00\",\"2024-06-01T00:00:00\",\"2024-06-01T00:00:00\",\"2024-07-01T00:00:00\",\"2024-07-01T00:00:00\",\"2024-07-01T00:00:00\",\"2024-07-01T00:00:00\",\"2024-07-01T00:00:00\",\"2024-07-01T00:00:00\",\"2024-07-01T00:00:00\",\"2024-07-01T00:00:00\",\"2024-07-01T00:00:00\",\"2024-07-01T00:00:00\",\"2024-07-01T00:00:00\",\"2024-07-01T00:00:00\",\"2024-07-01T00:00:00\",\"2024-07-01T00:00:00\",\"2024-07-01T00:00:00\",\"2024-07-01T00:00:00\",\"2024-07-01T00:00:00\",\"2024-07-01T00:00:00\",\"2024-07-01T00:00:00\",\"2024-07-01T00:00:00\",\"2024-07-01T00:00:00\",\"2024-07-01T00:00:00\",\"2024-07-01T00:00:00\",\"2024-07-01T00:00:00\",\"2024-07-01T00:00:00\",\"2024-07-01T00:00:00\",\"2024-07-01T00:00:00\",\"2024-07-01T00:00:00\",\"2024-07-01T00:00:00\",\"2024-07-01T00:00:00\",\"2024-07-01T00:00:00\",\"2024-08-01T00:00:00\",\"2024-08-01T00:00:00\",\"2024-08-01T00:00:00\",\"2024-08-01T00:00:00\",\"2024-08-01T00:00:00\",\"2024-08-01T00:00:00\",\"2024-08-01T00:00:00\",\"2024-08-01T00:00:00\",\"2024-08-01T00:00:00\",\"2024-08-01T00:00:00\",\"2024-08-01T00:00:00\",\"2024-08-01T00:00:00\",\"2024-08-01T00:00:00\",\"2024-08-01T00:00:00\",\"2024-08-01T00:00:00\",\"2024-08-01T00:00:00\",\"2024-08-01T00:00:00\",\"2024-08-01T00:00:00\",\"2024-08-01T00:00:00\",\"2024-08-01T00:00:00\",\"2024-08-01T00:00:00\",\"2024-08-01T00:00:00\",\"2024-08-01T00:00:00\",\"2024-08-01T00:00:00\",\"2024-08-01T00:00:00\",\"2024-08-01T00:00:00\",\"2024-08-01T00:00:00\",\"2024-08-01T00:00:00\",\"2024-08-01T00:00:00\",\"2024-08-01T00:00:00\",\"2024-08-01T00:00:00\",\"2024-09-01T00:00:00\",\"2024-09-01T00:00:00\",\"2024-09-01T00:00:00\",\"2024-09-01T00:00:00\",\"2024-09-01T00:00:00\",\"2024-09-01T00:00:00\",\"2024-09-01T00:00:00\",\"2024-09-01T00:00:00\",\"2024-09-01T00:00:00\",\"2024-09-01T00:00:00\",\"2024-09-01T00:00:00\",\"2024-09-01T00:00:00\",\"2024-09-01T00:00:00\",\"2024-09-01T00:00:00\",\"2024-09-01T00:00:00\",\"2024-09-01T00:00:00\",\"2024-09-01T00:00:00\",\"2024-09-01T00:00:00\",\"2024-09-01T00:00:00\",\"2024-09-01T00:00:00\",\"2024-09-01T00:00:00\",\"2024-09-01T00:00:00\",\"2024-09-01T00:00:00\",\"2024-09-01T00:00:00\",\"2024-09-01T00:00:00\",\"2024-09-01T00:00:00\",\"2024-09-01T00:00:00\",\"2024-09-01T00:00:00\",\"2024-09-01T00:00:00\",\"2024-09-01T00:00:00\",\"2024-10-01T00:00:00\",\"2024-10-01T00:00:00\",\"2024-10-01T00:00:00\",\"2024-10-01T00:00:00\",\"2024-10-01T00:00:00\",\"2024-10-01T00:00:00\",\"2024-10-01T00:00:00\",\"2024-10-01T00:00:00\",\"2024-10-01T00:00:00\",\"2024-10-01T00:00:00\",\"2024-10-01T00:00:00\",\"2024-10-01T00:00:00\",\"2024-10-01T00:00:00\",\"2024-10-01T00:00:00\",\"2024-10-01T00:00:00\",\"2024-10-01T00:00:00\",\"2024-10-01T00:00:00\",\"2024-10-01T00:00:00\",\"2024-10-01T00:00:00\",\"2024-10-01T00:00:00\",\"2024-10-01T00:00:00\",\"2024-10-01T00:00:00\",\"2024-10-01T00:00:00\",\"2024-10-01T00:00:00\",\"2024-10-01T00:00:00\",\"2024-10-01T00:00:00\",\"2024-10-01T00:00:00\",\"2024-10-01T00:00:00\",\"2024-10-01T00:00:00\",\"2024-10-01T00:00:00\",\"2024-10-01T00:00:00\",\"2024-11-01T00:00:00\",\"2024-11-01T00:00:00\",\"2024-11-01T00:00:00\",\"2024-11-01T00:00:00\",\"2024-11-01T00:00:00\",\"2024-11-01T00:00:00\",\"2024-11-01T00:00:00\",\"2024-11-01T00:00:00\",\"2024-11-01T00:00:00\",\"2024-11-01T00:00:00\",\"2024-11-01T00:00:00\",\"2024-11-01T00:00:00\",\"2024-11-01T00:00:00\",\"2024-11-01T00:00:00\",\"2024-11-01T00:00:00\",\"2024-11-01T00:00:00\",\"2024-11-01T00:00:00\",\"2024-11-01T00:00:00\",\"2024-11-01T00:00:00\",\"2024-11-01T00:00:00\",\"2024-11-01T00:00:00\",\"2024-11-01T00:00:00\",\"2024-11-01T00:00:00\",\"2024-11-01T00:00:00\",\"2024-11-01T00:00:00\",\"2024-11-01T00:00:00\",\"2024-11-01T00:00:00\",\"2024-11-01T00:00:00\",\"2024-11-01T00:00:00\",\"2024-11-01T00:00:00\",\"2024-12-01T00:00:00\",\"2024-12-01T00:00:00\",\"2024-12-01T00:00:00\",\"2024-12-01T00:00:00\",\"2024-12-01T00:00:00\",\"2024-12-01T00:00:00\",\"2024-12-01T00:00:00\",\"2024-12-01T00:00:00\",\"2024-12-01T00:00:00\",\"2024-12-01T00:00:00\",\"2024-12-01T00:00:00\",\"2024-12-01T00:00:00\",\"2024-12-01T00:00:00\",\"2024-12-01T00:00:00\",\"2024-12-01T00:00:00\",\"2024-12-01T00:00:00\",\"2024-12-01T00:00:00\",\"2024-12-01T00:00:00\",\"2024-12-01T00:00:00\",\"2024-12-01T00:00:00\",\"2024-12-01T00:00:00\",\"2024-12-01T00:00:00\",\"2024-12-01T00:00:00\",\"2024-12-01T00:00:00\",\"2024-12-01T00:00:00\",\"2024-12-01T00:00:00\",\"2024-12-01T00:00:00\",\"2024-12-01T00:00:00\",\"2024-12-01T00:00:00\",\"2024-12-01T00:00:00\",\"2024-12-01T00:00:00\",\"2025-01-01T00:00:00\",\"2025-01-01T00:00:00\",\"2025-01-01T00:00:00\",\"2025-01-01T00:00:00\",\"2025-01-01T00:00:00\",\"2025-01-01T00:00:00\",\"2025-01-01T00:00:00\",\"2025-01-01T00:00:00\",\"2025-01-01T00:00:00\",\"2025-01-01T00:00:00\"],\"xaxis\":\"x\",\"y\":[46648.59,42581.51,42034.52,41822.05,42114.61,42506.39,42944.49,39959.44,46344.0,42777.97,40081.13,43166.79,42779.3,39904.22,41735.38,39563.52,41560.38,43293.66,41661.33,41294.04,42843.2,41692.38,51783.24,49710.73,48279.89,43202.55,51854.23,61148.02,57040.7,42597.87,52109.67,51725.62,43017.24,50743.38,52271.79,51290.19,47750.96,43073.8,51571.6,54487.63,51642.35,62442.4,51802.73,43087.16,44357.99,45291.66,52121.17,42710.89,49921.27,51892.98,47123.48,63739.13,61957.53,67609.86,68254.91,61992.07,63117.14,67200.9,69891.73,69991.93,69858.51,69482.49,68399.06,70790.2,63788.62,68133.3,67841.56,62385.04,69580.07,71292.74,64024.07,65344.2,73071.4,71389.8,71463.41,66074.38,68959.76,68334.3,66830.12,65513.1,72097.76,69498.83,64501.36,64296.64,65969.31,70643.38,64946.2,63944.77,63770.47,66832.03,63465.56,64915.79,63863.03,68480.36,63120.14,66381.37,63810.15,69710.45,65466.13,63470.55,60680.03,61306.57,67825.53,63423.46,63810.13,69372.75,71630.3,69169.93,70019.24,67139.84,68889.74,65689.86,68507.69,62945.6,63893.21,60808.75,59066.36,68560.94,69298.65,64003.37,69429.66,67975.17,67668.34,62877.63,66914.18,69147.4,70157.92,71419.28,58348.9,68355.21,67536.18,67027.25,68392.69,66208.85,63178.07,62305.25,61183.35,63070.29,65232.59,61470.58,66278.54,61579.98,60794.9,68265.01,64877.15,69542.18,66224.4,68809.08,67765.76,67798.58,63199.58,60296.59,62782.47,60435.99,60850.08,66791.29,61696.15,64144.24,71115.3,64998.33,60985.39,61819.44,64288.63,66039.62,66507.91,65181.11,67323.79,70539.99,69651.43,69305.88,69383.93,70801.82,66687.03,68241.55,66830.94,66210.51,57715.06,64625.44,56634.57,67894.1,60220.92,65393.26,66672.18,62924.99,67118.58,67538.93,65935.38,57017.99,65790.95,67888.71,58230.43,62132.69,65053.57,63982.43,60784.37,55865.77,56731.74,68163.68,57335.47,64726.11,64089.15,57881.39,59201.27,58047.19,62851.63,61688.46,59350.04,60840.44,58840.55,58712.54,64159.34,64228.72,59416.98,59021.22,59351.92,60928.8,58975.84,58682.81,60363.22,65362.79,59015.58,59137.62,61497.39,57561.04,64033.28,58420.97,56030.34,54030.1,58152.36,60707.03,61152.68,60587.33,59478.93,59446.06,55098.31,58123.54,63209.64,61761.0,59146.04,57972.35,59121.13,57494.39,63565.99,65619.03,65153.59,63157.2,65776.19,60494.99,63343.55,63344.88,62944.89,57317.8,64255.47,65850.3,63327.02,59994.57,60317.79,57633.2,57312.12,56176.55,57045.5,54876.86,54159.96,53970.09,58196.55,72365.37,70307.05,60746.37,60330.71,62086.44,62088.0,67431.31,68194.21,69950.8,72744.75,66729.82,68019.06,62830.06,67381.26,68364.02,60817.98,60649.8,66672.3,67100.6,67085.31,60635.14,62904.47,62238.25,62171.09,69021.97,68428.74,67420.78,62512.51,63206.78,67636.36,66091.5,95663.79,87328.87,75573.91,90386.07,67830.72,97900.38,93020.0,95868.06,97474.44,69364.23,69511.35,98320.27,98912.69,91965.86,94299.39,68757.18,97705.35,96372.3,92298.47,69390.29,89851.84,90450.36,76491.99,76679.07,80399.71,75841.88,87943.93,91039.29,90584.28,88660.52,99738.55,101435.57,96943.47,94845.13,95858.41,95830.65,97805.26,95173.03,93548.04,92794.72,93734.42,99843.88,94289.97,95753.96,99441.97,98673.72,97281.41,95336.17,100231.42,97462.36,106072.77,98606.9,106137.67,101116.31,97266.2,97220.98,101133.62,99981.99,101415.7,104446.39,96610.55,94082.2,96960.38,98426.14,98250.13,98180.77,97023.09,95062.1,92547.63,94595.69,102233.01],\"yaxis\":\"y\",\"type\":\"scatter\",\"opacity\":0.8}],                        {\"template\":{\"data\":{\"histogram2dcontour\":[{\"type\":\"histogram2dcontour\",\"colorbar\":{\"outlinewidth\":0,\"ticks\":\"\"},\"colorscale\":[[0.0,\"#0d0887\"],[0.1111111111111111,\"#46039f\"],[0.2222222222222222,\"#7201a8\"],[0.3333333333333333,\"#9c179e\"],[0.4444444444444444,\"#bd3786\"],[0.5555555555555556,\"#d8576b\"],[0.6666666666666666,\"#ed7953\"],[0.7777777777777778,\"#fb9f3a\"],[0.8888888888888888,\"#fdca26\"],[1.0,\"#f0f921\"]]}],\"choropleth\":[{\"type\":\"choropleth\",\"colorbar\":{\"outlinewidth\":0,\"ticks\":\"\"}}],\"histogram2d\":[{\"type\":\"histogram2d\",\"colorbar\":{\"outlinewidth\":0,\"ticks\":\"\"},\"colorscale\":[[0.0,\"#0d0887\"],[0.1111111111111111,\"#46039f\"],[0.2222222222222222,\"#7201a8\"],[0.3333333333333333,\"#9c179e\"],[0.4444444444444444,\"#bd3786\"],[0.5555555555555556,\"#d8576b\"],[0.6666666666666666,\"#ed7953\"],[0.7777777777777778,\"#fb9f3a\"],[0.8888888888888888,\"#fdca26\"],[1.0,\"#f0f921\"]]}],\"heatmap\":[{\"type\":\"heatmap\",\"colorbar\":{\"outlinewidth\":0,\"ticks\":\"\"},\"colorscale\":[[0.0,\"#0d0887\"],[0.1111111111111111,\"#46039f\"],[0.2222222222222222,\"#7201a8\"],[0.3333333333333333,\"#9c179e\"],[0.4444444444444444,\"#bd3786\"],[0.5555555555555556,\"#d8576b\"],[0.6666666666666666,\"#ed7953\"],[0.7777777777777778,\"#fb9f3a\"],[0.8888888888888888,\"#fdca26\"],[1.0,\"#f0f921\"]]}],\"heatmapgl\":[{\"type\":\"heatmapgl\",\"colorbar\":{\"outlinewidth\":0,\"ticks\":\"\"},\"colorscale\":[[0.0,\"#0d0887\"],[0.1111111111111111,\"#46039f\"],[0.2222222222222222,\"#7201a8\"],[0.3333333333333333,\"#9c179e\"],[0.4444444444444444,\"#bd3786\"],[0.5555555555555556,\"#d8576b\"],[0.6666666666666666,\"#ed7953\"],[0.7777777777777778,\"#fb9f3a\"],[0.8888888888888888,\"#fdca26\"],[1.0,\"#f0f921\"]]}],\"contourcarpet\":[{\"type\":\"contourcarpet\",\"colorbar\":{\"outlinewidth\":0,\"ticks\":\"\"}}],\"contour\":[{\"type\":\"contour\",\"colorbar\":{\"outlinewidth\":0,\"ticks\":\"\"},\"colorscale\":[[0.0,\"#0d0887\"],[0.1111111111111111,\"#46039f\"],[0.2222222222222222,\"#7201a8\"],[0.3333333333333333,\"#9c179e\"],[0.4444444444444444,\"#bd3786\"],[0.5555555555555556,\"#d8576b\"],[0.6666666666666666,\"#ed7953\"],[0.7777777777777778,\"#fb9f3a\"],[0.8888888888888888,\"#fdca26\"],[1.0,\"#f0f921\"]]}],\"surface\":[{\"type\":\"surface\",\"colorbar\":{\"outlinewidth\":0,\"ticks\":\"\"},\"colorscale\":[[0.0,\"#0d0887\"],[0.1111111111111111,\"#46039f\"],[0.2222222222222222,\"#7201a8\"],[0.3333333333333333,\"#9c179e\"],[0.4444444444444444,\"#bd3786\"],[0.5555555555555556,\"#d8576b\"],[0.6666666666666666,\"#ed7953\"],[0.7777777777777778,\"#fb9f3a\"],[0.8888888888888888,\"#fdca26\"],[1.0,\"#f0f921\"]]}],\"mesh3d\":[{\"type\":\"mesh3d\",\"colorbar\":{\"outlinewidth\":0,\"ticks\":\"\"}}],\"scatter\":[{\"fillpattern\":{\"fillmode\":\"overlay\",\"size\":10,\"solidity\":0.2},\"type\":\"scatter\"}],\"parcoords\":[{\"type\":\"parcoords\",\"line\":{\"colorbar\":{\"outlinewidth\":0,\"ticks\":\"\"}}}],\"scatterpolargl\":[{\"type\":\"scatterpolargl\",\"marker\":{\"colorbar\":{\"outlinewidth\":0,\"ticks\":\"\"}}}],\"bar\":[{\"error_x\":{\"color\":\"#2a3f5f\"},\"error_y\":{\"color\":\"#2a3f5f\"},\"marker\":{\"line\":{\"color\":\"#E5ECF6\",\"width\":0.5},\"pattern\":{\"fillmode\":\"overlay\",\"size\":10,\"solidity\":0.2}},\"type\":\"bar\"}],\"scattergeo\":[{\"type\":\"scattergeo\",\"marker\":{\"colorbar\":{\"outlinewidth\":0,\"ticks\":\"\"}}}],\"scatterpolar\":[{\"type\":\"scatterpolar\",\"marker\":{\"colorbar\":{\"outlinewidth\":0,\"ticks\":\"\"}}}],\"histogram\":[{\"marker\":{\"pattern\":{\"fillmode\":\"overlay\",\"size\":10,\"solidity\":0.2}},\"type\":\"histogram\"}],\"scattergl\":[{\"type\":\"scattergl\",\"marker\":{\"colorbar\":{\"outlinewidth\":0,\"ticks\":\"\"}}}],\"scatter3d\":[{\"type\":\"scatter3d\",\"line\":{\"colorbar\":{\"outlinewidth\":0,\"ticks\":\"\"}},\"marker\":{\"colorbar\":{\"outlinewidth\":0,\"ticks\":\"\"}}}],\"scattermapbox\":[{\"type\":\"scattermapbox\",\"marker\":{\"colorbar\":{\"outlinewidth\":0,\"ticks\":\"\"}}}],\"scatterternary\":[{\"type\":\"scatterternary\",\"marker\":{\"colorbar\":{\"outlinewidth\":0,\"ticks\":\"\"}}}],\"scattercarpet\":[{\"type\":\"scattercarpet\",\"marker\":{\"colorbar\":{\"outlinewidth\":0,\"ticks\":\"\"}}}],\"carpet\":[{\"aaxis\":{\"endlinecolor\":\"#2a3f5f\",\"gridcolor\":\"white\",\"linecolor\":\"white\",\"minorgridcolor\":\"white\",\"startlinecolor\":\"#2a3f5f\"},\"baxis\":{\"endlinecolor\":\"#2a3f5f\",\"gridcolor\":\"white\",\"linecolor\":\"white\",\"minorgridcolor\":\"white\",\"startlinecolor\":\"#2a3f5f\"},\"type\":\"carpet\"}],\"table\":[{\"cells\":{\"fill\":{\"color\":\"#EBF0F8\"},\"line\":{\"color\":\"white\"}},\"header\":{\"fill\":{\"color\":\"#C8D4E3\"},\"line\":{\"color\":\"white\"}},\"type\":\"table\"}],\"barpolar\":[{\"marker\":{\"line\":{\"color\":\"#E5ECF6\",\"width\":0.5},\"pattern\":{\"fillmode\":\"overlay\",\"size\":10,\"solidity\":0.2}},\"type\":\"barpolar\"}],\"pie\":[{\"automargin\":true,\"type\":\"pie\"}]},\"layout\":{\"autotypenumbers\":\"strict\",\"colorway\":[\"#636efa\",\"#EF553B\",\"#00cc96\",\"#ab63fa\",\"#FFA15A\",\"#19d3f3\",\"#FF6692\",\"#B6E880\",\"#FF97FF\",\"#FECB52\"],\"font\":{\"color\":\"#2a3f5f\"},\"hovermode\":\"closest\",\"hoverlabel\":{\"align\":\"left\"},\"paper_bgcolor\":\"white\",\"plot_bgcolor\":\"#E5ECF6\",\"polar\":{\"bgcolor\":\"#E5ECF6\",\"angularaxis\":{\"gridcolor\":\"white\",\"linecolor\":\"white\",\"ticks\":\"\"},\"radialaxis\":{\"gridcolor\":\"white\",\"linecolor\":\"white\",\"ticks\":\"\"}},\"ternary\":{\"bgcolor\":\"#E5ECF6\",\"aaxis\":{\"gridcolor\":\"white\",\"linecolor\":\"white\",\"ticks\":\"\"},\"baxis\":{\"gridcolor\":\"white\",\"linecolor\":\"white\",\"ticks\":\"\"},\"caxis\":{\"gridcolor\":\"white\",\"linecolor\":\"white\",\"ticks\":\"\"}},\"coloraxis\":{\"colorbar\":{\"outlinewidth\":0,\"ticks\":\"\"}},\"colorscale\":{\"sequential\":[[0.0,\"#0d0887\"],[0.1111111111111111,\"#46039f\"],[0.2222222222222222,\"#7201a8\"],[0.3333333333333333,\"#9c179e\"],[0.4444444444444444,\"#bd3786\"],[0.5555555555555556,\"#d8576b\"],[0.6666666666666666,\"#ed7953\"],[0.7777777777777778,\"#fb9f3a\"],[0.8888888888888888,\"#fdca26\"],[1.0,\"#f0f921\"]],\"sequentialminus\":[[0.0,\"#0d0887\"],[0.1111111111111111,\"#46039f\"],[0.2222222222222222,\"#7201a8\"],[0.3333333333333333,\"#9c179e\"],[0.4444444444444444,\"#bd3786\"],[0.5555555555555556,\"#d8576b\"],[0.6666666666666666,\"#ed7953\"],[0.7777777777777778,\"#fb9f3a\"],[0.8888888888888888,\"#fdca26\"],[1.0,\"#f0f921\"]],\"diverging\":[[0,\"#8e0152\"],[0.1,\"#c51b7d\"],[0.2,\"#de77ae\"],[0.3,\"#f1b6da\"],[0.4,\"#fde0ef\"],[0.5,\"#f7f7f7\"],[0.6,\"#e6f5d0\"],[0.7,\"#b8e186\"],[0.8,\"#7fbc41\"],[0.9,\"#4d9221\"],[1,\"#276419\"]]},\"xaxis\":{\"gridcolor\":\"white\",\"linecolor\":\"white\",\"ticks\":\"\",\"title\":{\"standoff\":15},\"zerolinecolor\":\"white\",\"automargin\":true,\"zerolinewidth\":2},\"yaxis\":{\"gridcolor\":\"white\",\"linecolor\":\"white\",\"ticks\":\"\",\"title\":{\"standoff\":15},\"zerolinecolor\":\"white\",\"automargin\":true,\"zerolinewidth\":2},\"scene\":{\"xaxis\":{\"backgroundcolor\":\"#E5ECF6\",\"gridcolor\":\"white\",\"linecolor\":\"white\",\"showbackground\":true,\"ticks\":\"\",\"zerolinecolor\":\"white\",\"gridwidth\":2},\"yaxis\":{\"backgroundcolor\":\"#E5ECF6\",\"gridcolor\":\"white\",\"linecolor\":\"white\",\"showbackground\":true,\"ticks\":\"\",\"zerolinecolor\":\"white\",\"gridwidth\":2},\"zaxis\":{\"backgroundcolor\":\"#E5ECF6\",\"gridcolor\":\"white\",\"linecolor\":\"white\",\"showbackground\":true,\"ticks\":\"\",\"zerolinecolor\":\"white\",\"gridwidth\":2}},\"shapedefaults\":{\"line\":{\"color\":\"#2a3f5f\"}},\"annotationdefaults\":{\"arrowcolor\":\"#2a3f5f\",\"arrowhead\":0,\"arrowwidth\":1},\"geo\":{\"bgcolor\":\"white\",\"landcolor\":\"#E5ECF6\",\"subunitcolor\":\"white\",\"showland\":true,\"showlakes\":true,\"lakecolor\":\"white\"},\"title\":{\"x\":0.05},\"mapbox\":{\"style\":\"light\"}}},\"xaxis\":{\"anchor\":\"y\",\"domain\":[0.0,1.0],\"title\":{\"text\":\"date\"},\"showgrid\":false},\"yaxis\":{\"anchor\":\"x\",\"domain\":[0.0,1.0],\"title\":{\"text\":\"price\"},\"showgrid\":false},\"legend\":{\"tracegroupgap\":0},\"margin\":{\"t\":60},\"title\":{\"text\":\"Whole period of timeframe of close price 2020-2025\"},\"font\":{\"size\":15,\"color\":\"black\"},\"plot_bgcolor\":\"white\"},                        {\"responsive\": true}                    ).then(function(){\n",
              "                            \n",
              "var gd = document.getElementById('28b53f89-b272-4cde-80f0-1c7d8c0bf3e6');\n",
              "var x = new MutationObserver(function (mutations, observer) {{\n",
              "        var display = window.getComputedStyle(gd).display;\n",
              "        if (!display || display === 'none') {{\n",
              "            console.log([gd, 'removed!']);\n",
              "            Plotly.purge(gd);\n",
              "            observer.disconnect();\n",
              "        }}\n",
              "}});\n",
              "\n",
              "// Listen for the removal of the full notebook cells\n",
              "var notebookContainer = gd.closest('#notebook-container');\n",
              "if (notebookContainer) {{\n",
              "    x.observe(notebookContainer, {childList: true});\n",
              "}}\n",
              "\n",
              "// Listen for the clearing of the current output cell\n",
              "var outputEl = gd.closest('.output');\n",
              "if (outputEl) {{\n",
              "    x.observe(outputEl, {childList: true});\n",
              "}}\n",
              "\n",
              "                        })                };                            </script>        </div>\n",
              "</body>\n",
              "</html>"
            ]
          },
          "metadata": {}
        }
      ]
    },
    {
      "cell_type": "code",
      "source": [
        "scaler = MinMaxScaler(feature_range=(0, 1))\n",
        "scaled_data = scaler.fit_transform(data[['open', 'high', 'low', 'close', 'volume']])"
      ],
      "metadata": {
        "id": "ulIe5qhuwyEB"
      },
      "execution_count": 26,
      "outputs": []
    },
    {
      "cell_type": "code",
      "source": [
        "def create_sequences(data, time_step=3):\n",
        "    X, y = [], []\n",
        "    for i in range(len(data) - time_step - 1):\n",
        "        X.append(data[i:(i + time_step), :-1])\n",
        "        y.append(data[i + time_step, -2])\n",
        "    return np.array(X), np.array(y)\n"
      ],
      "metadata": {
        "id": "R6loT6OewyBM"
      },
      "execution_count": 27,
      "outputs": []
    },
    {
      "cell_type": "code",
      "source": [
        "time_step = 3\n",
        "X, y = create_sequences(scaled_data, time_step)"
      ],
      "metadata": {
        "id": "Uh-P7DJOwx95"
      },
      "execution_count": 28,
      "outputs": []
    },
    {
      "cell_type": "code",
      "source": [
        "X"
      ],
      "metadata": {
        "colab": {
          "base_uri": "https://localhost:8080/"
        },
        "id": "tP5N7KaEE1Lh",
        "outputId": "5077fdd1-66cd-4f0b-e41a-5ec24d5d1c4b"
      },
      "execution_count": 29,
      "outputs": [
        {
          "output_type": "execute_result",
          "data": {
            "text/plain": [
              "array([[[0.09854545, 0.11034358, 0.08638805, 0.10642374],\n",
              "        [0.10648725, 0.13017591, 0.10549385, 0.10184854],\n",
              "        [0.1018108 , 0.09291424, 0.04340664, 0.04828376]],\n",
              "\n",
              "       [[0.10648725, 0.13017591, 0.10549385, 0.10184854],\n",
              "        [0.1018108 , 0.09291424, 0.04340664, 0.04828376],\n",
              "        [0.04832675, 0.04517013, 0.0583333 , 0.04926357]],\n",
              "\n",
              "       [[0.1018108 , 0.09291424, 0.04340664, 0.04828376],\n",
              "        [0.04832675, 0.04517013, 0.0583333 , 0.04926357],\n",
              "        [0.04919604, 0.04233512, 0.04755913, 0.03262317]],\n",
              "\n",
              "       ...,\n",
              "\n",
              "       [[0.88185887, 0.85936232, 0.88324565, 0.88152248],\n",
              "        [0.88187089, 0.86031671, 0.87925713, 0.8841663 ],\n",
              "        [0.88514795, 0.91375886, 0.88904982, 0.94134871]],\n",
              "\n",
              "       [[0.88187089, 0.86031671, 0.87925713, 0.8841663 ],\n",
              "        [0.88514795, 0.91375886, 0.88904982, 0.94134871],\n",
              "        [0.94156431, 0.91706637, 0.86255032, 0.86214935]],\n",
              "\n",
              "       [[0.88514795, 0.91375886, 0.88904982, 0.94134871],\n",
              "        [0.94156431, 0.91706637, 0.86255032, 0.86214935],\n",
              "        [0.86221002, 0.83726105, 0.80826589, 0.83363558]]])"
            ]
          },
          "metadata": {},
          "execution_count": 29
        }
      ]
    },
    {
      "cell_type": "code",
      "source": [
        "y"
      ],
      "metadata": {
        "colab": {
          "base_uri": "https://localhost:8080/"
        },
        "id": "aSM_wid3E2Op",
        "outputId": "8b713924-4d07-4aa8-fcdd-6519a7bf7284"
      },
      "execution_count": 30,
      "outputs": [
        {
          "output_type": "execute_result",
          "data": {
            "text/plain": [
              "array([0.04926357, 0.03262317, 0.04420439, 0.05412416, 0.04830373,\n",
              "       0.02599387, 0.03151088, 0.03197728, 0.02999452, 0.        ,\n",
              "       0.0051176 , 0.00777494, 0.00594705, 0.03392503, 0.03831953,\n",
              "       0.03711651, 0.05602986, 0.05078503, 0.04533276, 0.05272737,\n",
              "       0.05466131, 0.05187779, 0.0455785 , 0.04727616, 0.05292805,\n",
              "       0.07201699, 0.0860415 , 0.11355699, 0.12298227, 0.13092724,\n",
              "       0.15558216, 0.15241967, 0.18384328, 0.18519891, 0.18862652,\n",
              "       0.18143424, 0.18845378, 0.18355052, 0.19088896, 0.18461685,\n",
              "       0.17614449, 0.16793095, 0.18037151, 0.18268502, 0.22417275,\n",
              "       0.26252201, 0.34366011, 0.32421743, 0.34279852, 0.33689578,\n",
              "       0.35379528, 0.43096893, 0.36313809, 0.39821552, 0.40956738,\n",
              "       0.42914224, 0.43216143, 0.44155637, 0.48869178, 0.47916331,\n",
              "       0.50331668, 0.47805762, 0.44965366, 0.3872476 , 0.43313418,\n",
              "       0.42127973, 0.33637696, 0.42476006, 0.38978462, 0.36388148,\n",
              "       0.36741813, 0.41513681, 0.45555535, 0.45706044, 0.44940822,\n",
              "       0.46905113, 0.45505635, 0.45087395, 0.4765997 , 0.45283237,\n",
              "       0.38907909, 0.39663728, 0.43435538, 0.42451928, 0.44050461,\n",
              "       0.44775983, 0.48167014, 0.4447133 , 0.46684577, 0.45747065,\n",
              "       0.41421963, 0.36622698, 0.39243971, 0.35839646, 0.36420457,\n",
              "       0.32659899, 0.35902884, 0.36420488, 0.38126931, 0.38081252,\n",
              "       0.40959607, 0.40282677, 0.37151237, 0.37458743, 0.36360885,\n",
              "       0.3591038 , 0.35384034, 0.36499918, 0.31718783, 0.28217228,\n",
              "       0.29294914, 0.35019764, 0.36545251, 0.3671072 , 0.3547105 ,\n",
              "       0.34160001, 0.32474812, 0.35309155, 0.31891327, 0.31912131,\n",
              "       0.32906256, 0.3512186 , 0.33070584, 0.40023538, 0.38557113,\n",
              "       0.41252844, 0.41083003, 0.40128218, 0.47850044, 0.45955375,\n",
              "       0.44437488, 0.426767  , 0.43556576, 0.44664678, 0.4347659 ,\n",
              "       0.44861467, 0.4330385 , 0.42215815, 0.43247552, 0.420173  ,\n",
              "       0.42362148, 0.42411446, 0.43929303, 0.46529276, 0.4739344 ,\n",
              "       0.46922567, 0.44792776, 0.44675538, 0.45194584, 0.45030481,\n",
              "       0.41698272, 0.43112064, 0.40898412, 0.3976934 , 0.40046895,\n",
              "       0.40741804, 0.40472751, 0.38479785, 0.38205234, 0.38023212,\n",
              "       0.36922319, 0.37139205, 0.3550336 , 0.31142823, 0.33430273,\n",
              "       0.31974212, 0.33245081, 0.31352214, 0.32177459, 0.34876825,\n",
              "       0.35090902, 0.33900801, 0.31029161, 0.26218089, 0.2564216 ,\n",
              "       0.28039277, 0.24487357, 0.25788117, 0.27764035, 0.27265147,\n",
              "       0.26694971, 0.27514989, 0.2949756 , 0.3187551 , 0.37796337,\n",
              "       0.38288209, 0.36839569, 0.36679267, 0.40719498, 0.41390029,\n",
              "       0.42959858, 0.4202143 , 0.39612763, 0.38798453, 0.39395817,\n",
              "       0.42546829, 0.42554926, 0.43076825, 0.40957969, 0.40026031,\n",
              "       0.37645122, 0.38752684, 0.32946527, 0.31759339, 0.27922009,\n",
              "       0.21730026, 0.24734555, 0.23334568, 0.3323353 , 0.31959732,\n",
              "       0.32092456, 0.28763446, 0.29721025, 0.3157954 , 0.2871879 ,\n",
              "       0.27033796, 0.28955728, 0.29914629, 0.28325484, 0.29865256,\n",
              "       0.29218638, 0.32428743, 0.31242907, 0.36755648, 0.36945   ,\n",
              "       0.37049215, 0.34980709, 0.29821575, 0.2922711 , 0.29723849,\n",
              "       0.29401953, 0.29158945, 0.26668429, 0.29377183, 0.26933682,\n",
              "       0.27651619, 0.24954175, 0.21639886, 0.21925087, 0.23001931,\n",
              "       0.26259411, 0.27142187, 0.26659897, 0.27878719, 0.31440837,\n",
              "       0.30689164, 0.294146  , 0.27988386, 0.31174668, 0.33342491,\n",
              "       0.35120794, 0.35518471, 0.35721613, 0.36053739, 0.35694785,\n",
              "       0.37089396, 0.35439701, 0.38438448, 0.39373646, 0.39484965,\n",
              "       0.39137578, 0.35719615, 0.31925995, 0.31673375, 0.31818431,\n",
              "       0.33831329, 0.33833673, 0.3494831 , 0.34059361, 0.33958481,\n",
              "       0.31651354, 0.31194075, 0.34471323, 0.35514175, 0.3506008 ,\n",
              "       0.39847268, 0.41340055, 0.42167778, 0.41843959, 0.43358   ,\n",
              "       0.43260785, 0.44249082, 0.41784597, 0.41859776, 0.40719679,\n",
              "       0.43005716, 0.40806079, 0.41363022, 0.42742626, 0.45644263,\n",
              "       0.49841012, 0.49271151, 0.4617938 , 0.44984172, 0.44763185,\n",
              "       0.43851345, 0.42459723, 0.44802329, 0.54090649, 0.54493163,\n",
              "       0.55469683, 0.55750693, 0.61339409, 0.73747844, 0.72671465,\n",
              "       0.76339766, 0.71747593, 0.77320957, 0.76637494, 0.75537307,\n",
              "       0.76436335, 0.79212352, 0.82217903, 0.88257604, 0.89147469,\n",
              "       0.87333943, 0.87626894, 0.80296151, 0.78712744, 0.84574178,\n",
              "       0.84267347, 0.86987096, 0.85331589, 0.86606378, 0.84517985,\n",
              "       0.84559683, 0.88688147, 0.86189535, 0.90387981, 0.90546195,\n",
              "       0.92457493, 0.86674302, 0.85689461, 0.92483494, 0.90753648,\n",
              "       0.92937048, 0.92907202, 0.97459554, 0.99902515, 1.        ,\n",
              "       0.91128313, 0.86968951, 0.87484016, 0.86697149, 0.83530184,\n",
              "       0.8303765 , 0.88788516, 0.89942493, 0.8440279 , 0.82203753,\n",
              "       0.83775234, 0.8136927 , 0.79957761, 0.81089312, 0.82662971,\n",
              "       0.8630913 , 0.88048064, 0.88152248, 0.8841663 , 0.94134871,\n",
              "       0.86214935, 0.83363558, 0.79586611])"
            ]
          },
          "metadata": {},
          "execution_count": 30
        }
      ]
    },
    {
      "cell_type": "code",
      "source": [
        "X.shape"
      ],
      "metadata": {
        "colab": {
          "base_uri": "https://localhost:8080/"
        },
        "id": "P3NY9CtDE2Do",
        "outputId": "97e61169-caae-4ae5-dad4-2891e7a8f8ef"
      },
      "execution_count": 31,
      "outputs": [
        {
          "output_type": "execute_result",
          "data": {
            "text/plain": [
              "(363, 3, 4)"
            ]
          },
          "metadata": {},
          "execution_count": 31
        }
      ]
    },
    {
      "cell_type": "code",
      "source": [
        "y.shape"
      ],
      "metadata": {
        "colab": {
          "base_uri": "https://localhost:8080/"
        },
        "id": "DQ7JMwvbE9Tv",
        "outputId": "9ca4f31b-0105-4ffc-b45f-e0e73b890f90"
      },
      "execution_count": 32,
      "outputs": [
        {
          "output_type": "execute_result",
          "data": {
            "text/plain": [
              "(363,)"
            ]
          },
          "metadata": {},
          "execution_count": 32
        }
      ]
    },
    {
      "cell_type": "code",
      "source": [
        "X_train, X_test, y_train, y_test = train_test_split(X, y, test_size=0.25, shuffle = False)\n",
        "\n",
        "model = Sequential()\n",
        "model.add(LSTM(units=50, return_sequences=True, input_shape=(X_train.shape[1], X_train.shape[2])))\n",
        "model.add(Dropout(0.2))\n",
        "model.add(LSTM(units=50, return_sequences=False))\n",
        "model.add(Dropout(0.2))\n",
        "model.add(Dense(units=1))  # Predicting the close price\n",
        "\n",
        "model.compile(optimizer='adam', loss='mean_squared_error')\n",
        "\n",
        "history = model.fit(X_train, y_train,validation_data=(X_test,y_test), epochs=60, batch_size=32, verbose=1)"
      ],
      "metadata": {
        "colab": {
          "base_uri": "https://localhost:8080/"
        },
        "id": "32I6cwB1FAQK",
        "outputId": "2678234f-d4e1-4b3e-bd61-62b01ce2c75c"
      },
      "execution_count": 33,
      "outputs": [
        {
          "output_type": "stream",
          "name": "stdout",
          "text": [
            "Epoch 1/60\n",
            "\u001b[1m9/9\u001b[0m \u001b[32m━━━━━━━━━━━━━━━━━━━━\u001b[0m\u001b[37m\u001b[0m \u001b[1m9s\u001b[0m 73ms/step - loss: 0.1133 - val_loss: 0.3104\n",
            "Epoch 2/60\n",
            "\u001b[1m9/9\u001b[0m \u001b[32m━━━━━━━━━━━━━━━━━━━━\u001b[0m\u001b[37m\u001b[0m \u001b[1m0s\u001b[0m 17ms/step - loss: 0.0363 - val_loss: 0.0625\n",
            "Epoch 3/60\n",
            "\u001b[1m9/9\u001b[0m \u001b[32m━━━━━━━━━━━━━━━━━━━━\u001b[0m\u001b[37m\u001b[0m \u001b[1m0s\u001b[0m 14ms/step - loss: 0.0061 - val_loss: 0.0067\n",
            "Epoch 4/60\n",
            "\u001b[1m9/9\u001b[0m \u001b[32m━━━━━━━━━━━━━━━━━━━━\u001b[0m\u001b[37m\u001b[0m \u001b[1m0s\u001b[0m 12ms/step - loss: 0.0077 - val_loss: 0.0479\n",
            "Epoch 5/60\n",
            "\u001b[1m9/9\u001b[0m \u001b[32m━━━━━━━━━━━━━━━━━━━━\u001b[0m\u001b[37m\u001b[0m \u001b[1m0s\u001b[0m 18ms/step - loss: 0.0050 - val_loss: 0.0599\n",
            "Epoch 6/60\n",
            "\u001b[1m9/9\u001b[0m \u001b[32m━━━━━━━━━━━━━━━━━━━━\u001b[0m\u001b[37m\u001b[0m \u001b[1m0s\u001b[0m 13ms/step - loss: 0.0047 - val_loss: 0.0298\n",
            "Epoch 7/60\n",
            "\u001b[1m9/9\u001b[0m \u001b[32m━━━━━━━━━━━━━━━━━━━━\u001b[0m\u001b[37m\u001b[0m \u001b[1m0s\u001b[0m 13ms/step - loss: 0.0037 - val_loss: 0.0192\n",
            "Epoch 8/60\n",
            "\u001b[1m9/9\u001b[0m \u001b[32m━━━━━━━━━━━━━━━━━━━━\u001b[0m\u001b[37m\u001b[0m \u001b[1m0s\u001b[0m 13ms/step - loss: 0.0041 - val_loss: 0.0250\n",
            "Epoch 9/60\n",
            "\u001b[1m9/9\u001b[0m \u001b[32m━━━━━━━━━━━━━━━━━━━━\u001b[0m\u001b[37m\u001b[0m \u001b[1m0s\u001b[0m 16ms/step - loss: 0.0033 - val_loss: 0.0186\n",
            "Epoch 10/60\n",
            "\u001b[1m9/9\u001b[0m \u001b[32m━━━━━━━━━━━━━━━━━━━━\u001b[0m\u001b[37m\u001b[0m \u001b[1m0s\u001b[0m 13ms/step - loss: 0.0026 - val_loss: 0.0112\n",
            "Epoch 11/60\n",
            "\u001b[1m9/9\u001b[0m \u001b[32m━━━━━━━━━━━━━━━━━━━━\u001b[0m\u001b[37m\u001b[0m \u001b[1m0s\u001b[0m 13ms/step - loss: 0.0027 - val_loss: 0.0148\n",
            "Epoch 12/60\n",
            "\u001b[1m9/9\u001b[0m \u001b[32m━━━━━━━━━━━━━━━━━━━━\u001b[0m\u001b[37m\u001b[0m \u001b[1m0s\u001b[0m 13ms/step - loss: 0.0027 - val_loss: 0.0096\n",
            "Epoch 13/60\n",
            "\u001b[1m9/9\u001b[0m \u001b[32m━━━━━━━━━━━━━━━━━━━━\u001b[0m\u001b[37m\u001b[0m \u001b[1m0s\u001b[0m 13ms/step - loss: 0.0029 - val_loss: 0.0053\n",
            "Epoch 14/60\n",
            "\u001b[1m9/9\u001b[0m \u001b[32m━━━━━━━━━━━━━━━━━━━━\u001b[0m\u001b[37m\u001b[0m \u001b[1m0s\u001b[0m 13ms/step - loss: 0.0026 - val_loss: 0.0063\n",
            "Epoch 15/60\n",
            "\u001b[1m9/9\u001b[0m \u001b[32m━━━━━━━━━━━━━━━━━━━━\u001b[0m\u001b[37m\u001b[0m \u001b[1m0s\u001b[0m 15ms/step - loss: 0.0024 - val_loss: 0.0043\n",
            "Epoch 16/60\n",
            "\u001b[1m9/9\u001b[0m \u001b[32m━━━━━━━━━━━━━━━━━━━━\u001b[0m\u001b[37m\u001b[0m \u001b[1m0s\u001b[0m 14ms/step - loss: 0.0025 - val_loss: 0.0031\n",
            "Epoch 17/60\n",
            "\u001b[1m9/9\u001b[0m \u001b[32m━━━━━━━━━━━━━━━━━━━━\u001b[0m\u001b[37m\u001b[0m \u001b[1m0s\u001b[0m 12ms/step - loss: 0.0024 - val_loss: 0.0032\n",
            "Epoch 18/60\n",
            "\u001b[1m9/9\u001b[0m \u001b[32m━━━━━━━━━━━━━━━━━━━━\u001b[0m\u001b[37m\u001b[0m \u001b[1m0s\u001b[0m 13ms/step - loss: 0.0021 - val_loss: 0.0028\n",
            "Epoch 19/60\n",
            "\u001b[1m9/9\u001b[0m \u001b[32m━━━━━━━━━━━━━━━━━━━━\u001b[0m\u001b[37m\u001b[0m \u001b[1m0s\u001b[0m 13ms/step - loss: 0.0021 - val_loss: 0.0032\n",
            "Epoch 20/60\n",
            "\u001b[1m9/9\u001b[0m \u001b[32m━━━━━━━━━━━━━━━━━━━━\u001b[0m\u001b[37m\u001b[0m \u001b[1m0s\u001b[0m 13ms/step - loss: 0.0024 - val_loss: 0.0032\n",
            "Epoch 21/60\n",
            "\u001b[1m9/9\u001b[0m \u001b[32m━━━━━━━━━━━━━━━━━━━━\u001b[0m\u001b[37m\u001b[0m \u001b[1m0s\u001b[0m 13ms/step - loss: 0.0023 - val_loss: 0.0028\n",
            "Epoch 22/60\n",
            "\u001b[1m9/9\u001b[0m \u001b[32m━━━━━━━━━━━━━━━━━━━━\u001b[0m\u001b[37m\u001b[0m \u001b[1m0s\u001b[0m 18ms/step - loss: 0.0024 - val_loss: 0.0028\n",
            "Epoch 23/60\n",
            "\u001b[1m9/9\u001b[0m \u001b[32m━━━━━━━━━━━━━━━━━━━━\u001b[0m\u001b[37m\u001b[0m \u001b[1m0s\u001b[0m 13ms/step - loss: 0.0023 - val_loss: 0.0032\n",
            "Epoch 24/60\n",
            "\u001b[1m9/9\u001b[0m \u001b[32m━━━━━━━━━━━━━━━━━━━━\u001b[0m\u001b[37m\u001b[0m \u001b[1m0s\u001b[0m 13ms/step - loss: 0.0021 - val_loss: 0.0026\n",
            "Epoch 25/60\n",
            "\u001b[1m9/9\u001b[0m \u001b[32m━━━━━━━━━━━━━━━━━━━━\u001b[0m\u001b[37m\u001b[0m \u001b[1m0s\u001b[0m 13ms/step - loss: 0.0025 - val_loss: 0.0037\n",
            "Epoch 26/60\n",
            "\u001b[1m9/9\u001b[0m \u001b[32m━━━━━━━━━━━━━━━━━━━━\u001b[0m\u001b[37m\u001b[0m \u001b[1m0s\u001b[0m 13ms/step - loss: 0.0020 - val_loss: 0.0026\n",
            "Epoch 27/60\n",
            "\u001b[1m9/9\u001b[0m \u001b[32m━━━━━━━━━━━━━━━━━━━━\u001b[0m\u001b[37m\u001b[0m \u001b[1m0s\u001b[0m 13ms/step - loss: 0.0024 - val_loss: 0.0029\n",
            "Epoch 28/60\n",
            "\u001b[1m9/9\u001b[0m \u001b[32m━━━━━━━━━━━━━━━━━━━━\u001b[0m\u001b[37m\u001b[0m \u001b[1m0s\u001b[0m 13ms/step - loss: 0.0020 - val_loss: 0.0030\n",
            "Epoch 29/60\n",
            "\u001b[1m9/9\u001b[0m \u001b[32m━━━━━━━━━━━━━━━━━━━━\u001b[0m\u001b[37m\u001b[0m \u001b[1m0s\u001b[0m 16ms/step - loss: 0.0023 - val_loss: 0.0039\n",
            "Epoch 30/60\n",
            "\u001b[1m9/9\u001b[0m \u001b[32m━━━━━━━━━━━━━━━━━━━━\u001b[0m\u001b[37m\u001b[0m \u001b[1m0s\u001b[0m 12ms/step - loss: 0.0018 - val_loss: 0.0029\n",
            "Epoch 31/60\n",
            "\u001b[1m9/9\u001b[0m \u001b[32m━━━━━━━━━━━━━━━━━━━━\u001b[0m\u001b[37m\u001b[0m \u001b[1m0s\u001b[0m 13ms/step - loss: 0.0023 - val_loss: 0.0039\n",
            "Epoch 32/60\n",
            "\u001b[1m9/9\u001b[0m \u001b[32m━━━━━━━━━━━━━━━━━━━━\u001b[0m\u001b[37m\u001b[0m \u001b[1m0s\u001b[0m 12ms/step - loss: 0.0022 - val_loss: 0.0037\n",
            "Epoch 33/60\n",
            "\u001b[1m9/9\u001b[0m \u001b[32m━━━━━━━━━━━━━━━━━━━━\u001b[0m\u001b[37m\u001b[0m \u001b[1m0s\u001b[0m 17ms/step - loss: 0.0024 - val_loss: 0.0029\n",
            "Epoch 34/60\n",
            "\u001b[1m9/9\u001b[0m \u001b[32m━━━━━━━━━━━━━━━━━━━━\u001b[0m\u001b[37m\u001b[0m \u001b[1m0s\u001b[0m 12ms/step - loss: 0.0020 - val_loss: 0.0040\n",
            "Epoch 35/60\n",
            "\u001b[1m9/9\u001b[0m \u001b[32m━━━━━━━━━━━━━━━━━━━━\u001b[0m\u001b[37m\u001b[0m \u001b[1m0s\u001b[0m 13ms/step - loss: 0.0021 - val_loss: 0.0034\n",
            "Epoch 36/60\n",
            "\u001b[1m9/9\u001b[0m \u001b[32m━━━━━━━━━━━━━━━━━━━━\u001b[0m\u001b[37m\u001b[0m \u001b[1m0s\u001b[0m 19ms/step - loss: 0.0020 - val_loss: 0.0047\n",
            "Epoch 37/60\n",
            "\u001b[1m9/9\u001b[0m \u001b[32m━━━━━━━━━━━━━━━━━━━━\u001b[0m\u001b[37m\u001b[0m \u001b[1m0s\u001b[0m 13ms/step - loss: 0.0018 - val_loss: 0.0042\n",
            "Epoch 38/60\n",
            "\u001b[1m9/9\u001b[0m \u001b[32m━━━━━━━━━━━━━━━━━━━━\u001b[0m\u001b[37m\u001b[0m \u001b[1m0s\u001b[0m 14ms/step - loss: 0.0019 - val_loss: 0.0058\n",
            "Epoch 39/60\n",
            "\u001b[1m9/9\u001b[0m \u001b[32m━━━━━━━━━━━━━━━━━━━━\u001b[0m\u001b[37m\u001b[0m \u001b[1m0s\u001b[0m 13ms/step - loss: 0.0020 - val_loss: 0.0039\n",
            "Epoch 40/60\n",
            "\u001b[1m9/9\u001b[0m \u001b[32m━━━━━━━━━━━━━━━━━━━━\u001b[0m\u001b[37m\u001b[0m \u001b[1m0s\u001b[0m 18ms/step - loss: 0.0018 - val_loss: 0.0041\n",
            "Epoch 41/60\n",
            "\u001b[1m9/9\u001b[0m \u001b[32m━━━━━━━━━━━━━━━━━━━━\u001b[0m\u001b[37m\u001b[0m \u001b[1m0s\u001b[0m 13ms/step - loss: 0.0021 - val_loss: 0.0056\n",
            "Epoch 42/60\n",
            "\u001b[1m9/9\u001b[0m \u001b[32m━━━━━━━━━━━━━━━━━━━━\u001b[0m\u001b[37m\u001b[0m \u001b[1m0s\u001b[0m 16ms/step - loss: 0.0017 - val_loss: 0.0048\n",
            "Epoch 43/60\n",
            "\u001b[1m9/9\u001b[0m \u001b[32m━━━━━━━━━━━━━━━━━━━━\u001b[0m\u001b[37m\u001b[0m \u001b[1m0s\u001b[0m 13ms/step - loss: 0.0020 - val_loss: 0.0045\n",
            "Epoch 44/60\n",
            "\u001b[1m9/9\u001b[0m \u001b[32m━━━━━━━━━━━━━━━━━━━━\u001b[0m\u001b[37m\u001b[0m \u001b[1m0s\u001b[0m 13ms/step - loss: 0.0019 - val_loss: 0.0053\n",
            "Epoch 45/60\n",
            "\u001b[1m9/9\u001b[0m \u001b[32m━━━━━━━━━━━━━━━━━━━━\u001b[0m\u001b[37m\u001b[0m \u001b[1m0s\u001b[0m 13ms/step - loss: 0.0022 - val_loss: 0.0056\n",
            "Epoch 46/60\n",
            "\u001b[1m9/9\u001b[0m \u001b[32m━━━━━━━━━━━━━━━━━━━━\u001b[0m\u001b[37m\u001b[0m \u001b[1m0s\u001b[0m 19ms/step - loss: 0.0017 - val_loss: 0.0040\n",
            "Epoch 47/60\n",
            "\u001b[1m9/9\u001b[0m \u001b[32m━━━━━━━━━━━━━━━━━━━━\u001b[0m\u001b[37m\u001b[0m \u001b[1m0s\u001b[0m 20ms/step - loss: 0.0019 - val_loss: 0.0063\n",
            "Epoch 48/60\n",
            "\u001b[1m9/9\u001b[0m \u001b[32m━━━━━━━━━━━━━━━━━━━━\u001b[0m\u001b[37m\u001b[0m \u001b[1m0s\u001b[0m 23ms/step - loss: 0.0018 - val_loss: 0.0050\n",
            "Epoch 49/60\n",
            "\u001b[1m9/9\u001b[0m \u001b[32m━━━━━━━━━━━━━━━━━━━━\u001b[0m\u001b[37m\u001b[0m \u001b[1m0s\u001b[0m 21ms/step - loss: 0.0016 - val_loss: 0.0073\n",
            "Epoch 50/60\n",
            "\u001b[1m9/9\u001b[0m \u001b[32m━━━━━━━━━━━━━━━━━━━━\u001b[0m\u001b[37m\u001b[0m \u001b[1m0s\u001b[0m 23ms/step - loss: 0.0019 - val_loss: 0.0040\n",
            "Epoch 51/60\n",
            "\u001b[1m9/9\u001b[0m \u001b[32m━━━━━━━━━━━━━━━━━━━━\u001b[0m\u001b[37m\u001b[0m \u001b[1m0s\u001b[0m 25ms/step - loss: 0.0021 - val_loss: 0.0071\n",
            "Epoch 52/60\n",
            "\u001b[1m9/9\u001b[0m \u001b[32m━━━━━━━━━━━━━━━━━━━━\u001b[0m\u001b[37m\u001b[0m \u001b[1m0s\u001b[0m 23ms/step - loss: 0.0019 - val_loss: 0.0052\n",
            "Epoch 53/60\n",
            "\u001b[1m9/9\u001b[0m \u001b[32m━━━━━━━━━━━━━━━━━━━━\u001b[0m\u001b[37m\u001b[0m \u001b[1m0s\u001b[0m 24ms/step - loss: 0.0023 - val_loss: 0.0071\n",
            "Epoch 54/60\n",
            "\u001b[1m9/9\u001b[0m \u001b[32m━━━━━━━━━━━━━━━━━━━━\u001b[0m\u001b[37m\u001b[0m \u001b[1m0s\u001b[0m 19ms/step - loss: 0.0021 - val_loss: 0.0054\n",
            "Epoch 55/60\n",
            "\u001b[1m9/9\u001b[0m \u001b[32m━━━━━━━━━━━━━━━━━━━━\u001b[0m\u001b[37m\u001b[0m \u001b[1m0s\u001b[0m 18ms/step - loss: 0.0020 - val_loss: 0.0071\n",
            "Epoch 56/60\n",
            "\u001b[1m9/9\u001b[0m \u001b[32m━━━━━━━━━━━━━━━━━━━━\u001b[0m\u001b[37m\u001b[0m \u001b[1m0s\u001b[0m 13ms/step - loss: 0.0018 - val_loss: 0.0062\n",
            "Epoch 57/60\n",
            "\u001b[1m9/9\u001b[0m \u001b[32m━━━━━━━━━━━━━━━━━━━━\u001b[0m\u001b[37m\u001b[0m \u001b[1m0s\u001b[0m 14ms/step - loss: 0.0017 - val_loss: 0.0053\n",
            "Epoch 58/60\n",
            "\u001b[1m9/9\u001b[0m \u001b[32m━━━━━━━━━━━━━━━━━━━━\u001b[0m\u001b[37m\u001b[0m \u001b[1m0s\u001b[0m 14ms/step - loss: 0.0016 - val_loss: 0.0083\n",
            "Epoch 59/60\n",
            "\u001b[1m9/9\u001b[0m \u001b[32m━━━━━━━━━━━━━━━━━━━━\u001b[0m\u001b[37m\u001b[0m \u001b[1m0s\u001b[0m 13ms/step - loss: 0.0019 - val_loss: 0.0077\n",
            "Epoch 60/60\n",
            "\u001b[1m9/9\u001b[0m \u001b[32m━━━━━━━━━━━━━━━━━━━━\u001b[0m\u001b[37m\u001b[0m \u001b[1m0s\u001b[0m 17ms/step - loss: 0.0017 - val_loss: 0.0078\n"
          ]
        }
      ]
    },
    {
      "cell_type": "code",
      "source": [
        "loss = history.history['loss']\n",
        "val_loss = history.history['val_loss']\n",
        "\n",
        "epochs = range(len(loss))\n",
        "\n",
        "plt.plot(epochs, loss, 'r', label='Training loss')\n",
        "plt.plot(epochs, val_loss, 'b', label='Validation loss')\n",
        "plt.title('Training and validation loss')\n",
        "plt.legend(loc=0)\n",
        "plt.figure()\n",
        "\n",
        "\n",
        "plt.show()"
      ],
      "metadata": {
        "colab": {
          "base_uri": "https://localhost:8080/",
          "height": 470
        },
        "id": "SsAQZzTQFE1C",
        "outputId": "79ef41b2-9a8e-4e62-ea75-c12d25346eda"
      },
      "execution_count": 34,
      "outputs": [
        {
          "output_type": "display_data",
          "data": {
            "text/plain": [
              "<Figure size 640x480 with 1 Axes>"
            ],
            "image/png": "[encoded data removed]"
          },
          "metadata": {}
        },
        {
          "output_type": "display_data",
          "data": {
            "text/plain": [
              "<Figure size 640x480 with 0 Axes>"
            ]
          },
          "metadata": {}
        }
      ]
    },
    {
      "cell_type": "code",
      "source": [
        "X_test"
      ],
      "metadata": {
        "colab": {
          "base_uri": "https://localhost:8080/"
        },
        "id": "cjoKDfFtFg0J",
        "outputId": "00fd718d-ca5c-45df-d337-40516c8001d4"
      },
      "execution_count": 35,
      "outputs": [
        {
          "output_type": "execute_result",
          "data": {
            "text/plain": [
              "array([[[0.34057143, 0.33775328, 0.34920265, 0.33958481],\n",
              "        [0.33959008, 0.32803296, 0.32575616, 0.31651354],\n",
              "        [0.31647926, 0.3106919 , 0.30518839, 0.31194075]],\n",
              "\n",
              "       [[0.33959008, 0.32803296, 0.32575616, 0.31651354],\n",
              "        [0.31647926, 0.3106919 , 0.30518839, 0.31194075],\n",
              "        [0.31203218, 0.34091942, 0.32270899, 0.34471323]],\n",
              "\n",
              "       [[0.31647926, 0.3106919 , 0.30518839, 0.31194075],\n",
              "        [0.31203218, 0.34091942, 0.32270899, 0.34471323],\n",
              "        [0.34518645, 0.34171426, 0.35862939, 0.35514175]],\n",
              "\n",
              "       ...,\n",
              "\n",
              "       [[0.88185887, 0.85936232, 0.88324565, 0.88152248],\n",
              "        [0.88187089, 0.86031671, 0.87925713, 0.8841663 ],\n",
              "        [0.88514795, 0.91375886, 0.88904982, 0.94134871]],\n",
              "\n",
              "       [[0.88187089, 0.86031671, 0.87925713, 0.8841663 ],\n",
              "        [0.88514795, 0.91375886, 0.88904982, 0.94134871],\n",
              "        [0.94156431, 0.91706637, 0.86255032, 0.86214935]],\n",
              "\n",
              "       [[0.88514795, 0.91375886, 0.88904982, 0.94134871],\n",
              "        [0.94156431, 0.91706637, 0.86255032, 0.86214935],\n",
              "        [0.86221002, 0.83726105, 0.80826589, 0.83363558]]])"
            ]
          },
          "metadata": {},
          "execution_count": 35
        }
      ]
    },
    {
      "cell_type": "code",
      "source": [
        "predicted_prices = model.predict(X_test)\n",
        "mae = mean_absolute_error(y_test, predicted_prices)\n",
        "mse = mean_squared_error(y_test, predicted_prices)\n",
        "rmse = np.sqrt(mse)\n",
        "r2 = r2_score(y_test, predicted_prices)\n",
        "print(f'Mean Absolute Error (MAE): {mae}')\n",
        "print(f'Mean Squared Error (MSE): {mse}')\n",
        "print(f'Root Mean Squared Error (RMSE): {rmse}')\n",
        "print(f'R-squared (R²): {r2}')"
      ],
      "metadata": {
        "colab": {
          "base_uri": "https://localhost:8080/"
        },
        "id": "40caITEBFgn7",
        "outputId": "d3dbd44a-6e48-4621-fdac-5ec487f10b1d"
      },
      "execution_count": 36,
      "outputs": [
        {
          "output_type": "stream",
          "name": "stdout",
          "text": [
            "\u001b[1m3/3\u001b[0m \u001b[32m━━━━━━━━━━━━━━━━━━━━\u001b[0m\u001b[37m\u001b[0m \u001b[1m1s\u001b[0m 290ms/step\n",
            "Mean Absolute Error (MAE): 0.0738048980591126\n",
            "Mean Squared Error (MSE): 0.007848646055976339\n",
            "Root Mean Squared Error (RMSE): 0.08859258465569418\n",
            "R-squared (R²): 0.8080979314331624\n"
          ]
        }
      ]
    },
    {
      "cell_type": "code",
      "source": [
        "predicted_prices.shape"
      ],
      "metadata": {
        "colab": {
          "base_uri": "https://localhost:8080/"
        },
        "id": "9Nmn7D-vFl0I",
        "outputId": "1cb7ed8a-3aaf-4746-c9ca-4195dd8f7cf1"
      },
      "execution_count": 37,
      "outputs": [
        {
          "output_type": "execute_result",
          "data": {
            "text/plain": [
              "(91, 1)"
            ]
          },
          "metadata": {},
          "execution_count": 37
        }
      ]
    },
    {
      "cell_type": "code",
      "source": [
        "predicted_prices_reshaped = predicted_prices.reshape(-1, 1)\n",
        "X_last = X_test[:, -1, :-1]\n",
        "predicted_prices_full = np.concatenate((X_last, predicted_prices_reshaped), axis=1)"
      ],
      "metadata": {
        "id": "3PqS5hr6FpN_"
      },
      "execution_count": 38,
      "outputs": []
    },
    {
      "cell_type": "code",
      "source": [
        "last_known_values = scaled_data[-1, :-1]\n",
        "dummy_other_features = np.tile(last_known_values, (predicted_prices.shape[0], 1))\n",
        "predicted_prices_full = np.concatenate((dummy_other_features, predicted_prices), axis=1)\n",
        "predicted_prices_rescaled = scaler.inverse_transform(predicted_prices_full)[:, -1]"
      ],
      "metadata": {
        "id": "eKgWgFS0F2b6"
      },
      "execution_count": 39,
      "outputs": []
    },
    {
      "cell_type": "code",
      "source": [
        "plt.figure(figsize=(14, 5))\n",
        "plt.plot(predicted_prices_rescaled, color='red', label='Predicted Close Price for Next Year')\n",
        "plt.title('Ethereum Price Prediction for the Next Year')\n",
        "plt.xlabel('Days')\n",
        "plt.ylabel('Price')\n",
        "plt.legend()\n",
        "plt.show()"
      ],
      "metadata": {
        "colab": {
          "base_uri": "https://localhost:8080/",
          "height": 435
        },
        "id": "_lpmhCGaF2C0",
        "outputId": "87ddd294-b061-44a9-bbdf-ce2e70b7f075"
      },
      "execution_count": 40,
      "outputs": [
        {
          "output_type": "display_data",
          "data": {
            "text/plain": [
              "<Figure size 1400x500 with 1 Axes>"
            ],
            "image/png": "[encoded data removed]"
          },
          "metadata": {}
        }
      ]
    },
    {
      "cell_type": "code",
      "source": [],
      "metadata": {
        "id": "_LVOVj_jF7jX"
      },
      "execution_count": null,
      "outputs": []
    }
  ]
}